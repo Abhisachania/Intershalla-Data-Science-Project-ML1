{
 "cells": [
  {
   "cell_type": "code",
   "execution_count": 1,
   "id": "e237c0e3",
   "metadata": {},
   "outputs": [],
   "source": [
    "import numpy as np"
   ]
  },
  {
   "cell_type": "code",
   "execution_count": 2,
   "id": "91eba185",
   "metadata": {},
   "outputs": [],
   "source": [
    "import pandas as pd"
   ]
  },
  {
   "cell_type": "code",
   "execution_count": 3,
   "id": "86b2b7b7",
   "metadata": {},
   "outputs": [],
   "source": [
    "df1 = pd.read_csv('E:\\Data Science\\Data Science Internshalla\\PYTHON ML\\dataset/ML case Study.csv',header=0)"
   ]
  },
  {
   "cell_type": "code",
   "execution_count": 4,
   "id": "51379118",
   "metadata": {},
   "outputs": [],
   "source": [
    "df2 = pd.read_csv('E:\\Data Science\\Data Science Internshalla\\PYTHON ML\\dataset/Colleges.csv',header=0)"
   ]
  },
  {
   "cell_type": "code",
   "execution_count": 5,
   "id": "8dcc1a37",
   "metadata": {},
   "outputs": [],
   "source": [
    "df3 = pd.read_csv('E:\\Data Science\\Data Science Internshalla\\PYTHON ML\\dataset/cities.csv',header=0)\n"
   ]
  },
  {
   "cell_type": "code",
   "execution_count": 6,
   "id": "6f33c047",
   "metadata": {},
   "outputs": [
    {
     "data": {
      "text/html": [
       "<div>\n",
       "<style scoped>\n",
       "    .dataframe tbody tr th:only-of-type {\n",
       "        vertical-align: middle;\n",
       "    }\n",
       "\n",
       "    .dataframe tbody tr th {\n",
       "        vertical-align: top;\n",
       "    }\n",
       "\n",
       "    .dataframe thead th {\n",
       "        text-align: right;\n",
       "    }\n",
       "</style>\n",
       "<table border=\"1\" class=\"dataframe\">\n",
       "  <thead>\n",
       "    <tr style=\"text-align: right;\">\n",
       "      <th></th>\n",
       "      <th>College</th>\n",
       "      <th>City</th>\n",
       "      <th>Role</th>\n",
       "      <th>Previous CTC</th>\n",
       "      <th>Previous job change</th>\n",
       "      <th>Graduation Marks</th>\n",
       "      <th>EXP (Month)</th>\n",
       "      <th>CTC</th>\n",
       "    </tr>\n",
       "  </thead>\n",
       "  <tbody>\n",
       "    <tr>\n",
       "      <th>0</th>\n",
       "      <td>SVNIT Surat</td>\n",
       "      <td>Asansol</td>\n",
       "      <td>Manager</td>\n",
       "      <td>55523.0</td>\n",
       "      <td>3</td>\n",
       "      <td>66</td>\n",
       "      <td>19</td>\n",
       "      <td>71406.58</td>\n",
       "    </tr>\n",
       "    <tr>\n",
       "      <th>1</th>\n",
       "      <td>NIT Bhopal</td>\n",
       "      <td>Ajmer</td>\n",
       "      <td>Executive</td>\n",
       "      <td>57081.0</td>\n",
       "      <td>1</td>\n",
       "      <td>84</td>\n",
       "      <td>18</td>\n",
       "      <td>68005.87</td>\n",
       "    </tr>\n",
       "    <tr>\n",
       "      <th>2</th>\n",
       "      <td>IEM, Kolkata</td>\n",
       "      <td>Rajpur Sonarpur</td>\n",
       "      <td>Executive</td>\n",
       "      <td>60347.0</td>\n",
       "      <td>2</td>\n",
       "      <td>52</td>\n",
       "      <td>28</td>\n",
       "      <td>76764.02</td>\n",
       "    </tr>\n",
       "    <tr>\n",
       "      <th>3</th>\n",
       "      <td>KIIT, Bhubaneswar</td>\n",
       "      <td>Ajmer</td>\n",
       "      <td>Executive</td>\n",
       "      <td>49010.0</td>\n",
       "      <td>2</td>\n",
       "      <td>81</td>\n",
       "      <td>33</td>\n",
       "      <td>82092.39</td>\n",
       "    </tr>\n",
       "    <tr>\n",
       "      <th>4</th>\n",
       "      <td>DTU</td>\n",
       "      <td>Durgapur</td>\n",
       "      <td>Executive</td>\n",
       "      <td>57879.0</td>\n",
       "      <td>4</td>\n",
       "      <td>74</td>\n",
       "      <td>32</td>\n",
       "      <td>73878.10</td>\n",
       "    </tr>\n",
       "  </tbody>\n",
       "</table>\n",
       "</div>"
      ],
      "text/plain": [
       "             College             City       Role  Previous CTC  \\\n",
       "0        SVNIT Surat          Asansol    Manager       55523.0   \n",
       "1         NIT Bhopal            Ajmer  Executive       57081.0   \n",
       "2       IEM, Kolkata  Rajpur Sonarpur  Executive       60347.0   \n",
       "3  KIIT, Bhubaneswar            Ajmer  Executive       49010.0   \n",
       "4                DTU         Durgapur  Executive       57879.0   \n",
       "\n",
       "   Previous job change  Graduation Marks  EXP (Month)       CTC  \n",
       "0                    3                66           19  71406.58  \n",
       "1                    1                84           18  68005.87  \n",
       "2                    2                52           28  76764.02  \n",
       "3                    2                81           33  82092.39  \n",
       "4                    4                74           32  73878.10  "
      ]
     },
     "execution_count": 6,
     "metadata": {},
     "output_type": "execute_result"
    }
   ],
   "source": [
    "df1.head()"
   ]
  },
  {
   "cell_type": "code",
   "execution_count": 7,
   "id": "9560ce43",
   "metadata": {},
   "outputs": [
    {
     "data": {
      "text/html": [
       "<div>\n",
       "<style scoped>\n",
       "    .dataframe tbody tr th:only-of-type {\n",
       "        vertical-align: middle;\n",
       "    }\n",
       "\n",
       "    .dataframe tbody tr th {\n",
       "        vertical-align: top;\n",
       "    }\n",
       "\n",
       "    .dataframe thead th {\n",
       "        text-align: right;\n",
       "    }\n",
       "</style>\n",
       "<table border=\"1\" class=\"dataframe\">\n",
       "  <thead>\n",
       "    <tr style=\"text-align: right;\">\n",
       "      <th></th>\n",
       "      <th>Tier 1</th>\n",
       "      <th>Tier 2</th>\n",
       "      <th>Tier 3</th>\n",
       "    </tr>\n",
       "  </thead>\n",
       "  <tbody>\n",
       "    <tr>\n",
       "      <th>0</th>\n",
       "      <td>IIT Bombay</td>\n",
       "      <td>IIIT Bangalore</td>\n",
       "      <td>Ramaiah Institute of Technology, Bengaluru</td>\n",
       "    </tr>\n",
       "    <tr>\n",
       "      <th>1</th>\n",
       "      <td>IIT Delhi</td>\n",
       "      <td>IIIT Delhi</td>\n",
       "      <td>TIET/Thapar University</td>\n",
       "    </tr>\n",
       "    <tr>\n",
       "      <th>2</th>\n",
       "      <td>IIT Kharagpur</td>\n",
       "      <td>IGDTUW</td>\n",
       "      <td>Manipal Main Campus</td>\n",
       "    </tr>\n",
       "    <tr>\n",
       "      <th>3</th>\n",
       "      <td>IIT Madras</td>\n",
       "      <td>NIT Calicut</td>\n",
       "      <td>VIT Vellore</td>\n",
       "    </tr>\n",
       "    <tr>\n",
       "      <th>4</th>\n",
       "      <td>IIT Kanpur</td>\n",
       "      <td>IIITM Gwalior</td>\n",
       "      <td>SRM Main Campus</td>\n",
       "    </tr>\n",
       "  </tbody>\n",
       "</table>\n",
       "</div>"
      ],
      "text/plain": [
       "          Tier 1          Tier 2                                      Tier 3\n",
       "0     IIT Bombay  IIIT Bangalore  Ramaiah Institute of Technology, Bengaluru\n",
       "1      IIT Delhi      IIIT Delhi                      TIET/Thapar University\n",
       "2  IIT Kharagpur          IGDTUW                         Manipal Main Campus\n",
       "3     IIT Madras     NIT Calicut                                 VIT Vellore\n",
       "4     IIT Kanpur   IIITM Gwalior                             SRM Main Campus"
      ]
     },
     "execution_count": 7,
     "metadata": {},
     "output_type": "execute_result"
    }
   ],
   "source": [
    "df2.head()"
   ]
  },
  {
   "cell_type": "code",
   "execution_count": 8,
   "id": "49aae356",
   "metadata": {},
   "outputs": [
    {
     "data": {
      "text/html": [
       "<div>\n",
       "<style scoped>\n",
       "    .dataframe tbody tr th:only-of-type {\n",
       "        vertical-align: middle;\n",
       "    }\n",
       "\n",
       "    .dataframe tbody tr th {\n",
       "        vertical-align: top;\n",
       "    }\n",
       "\n",
       "    .dataframe thead th {\n",
       "        text-align: right;\n",
       "    }\n",
       "</style>\n",
       "<table border=\"1\" class=\"dataframe\">\n",
       "  <thead>\n",
       "    <tr style=\"text-align: right;\">\n",
       "      <th></th>\n",
       "      <th>Metrio City</th>\n",
       "      <th>non-metro cities</th>\n",
       "    </tr>\n",
       "  </thead>\n",
       "  <tbody>\n",
       "    <tr>\n",
       "      <th>0</th>\n",
       "      <td>Mumbai</td>\n",
       "      <td>Dehradun</td>\n",
       "    </tr>\n",
       "    <tr>\n",
       "      <th>1</th>\n",
       "      <td>Delhi</td>\n",
       "      <td>Durgapur</td>\n",
       "    </tr>\n",
       "    <tr>\n",
       "      <th>2</th>\n",
       "      <td>Kolkata</td>\n",
       "      <td>Asansol</td>\n",
       "    </tr>\n",
       "    <tr>\n",
       "      <th>3</th>\n",
       "      <td>Chennai</td>\n",
       "      <td>Rourkela</td>\n",
       "    </tr>\n",
       "    <tr>\n",
       "      <th>4</th>\n",
       "      <td>Bangalore</td>\n",
       "      <td>Kozhikode</td>\n",
       "    </tr>\n",
       "  </tbody>\n",
       "</table>\n",
       "</div>"
      ],
      "text/plain": [
       "  Metrio City non-metro cities\n",
       "0      Mumbai         Dehradun\n",
       "1       Delhi         Durgapur\n",
       "2     Kolkata          Asansol\n",
       "3     Chennai         Rourkela\n",
       "4   Bangalore        Kozhikode"
      ]
     },
     "execution_count": 8,
     "metadata": {},
     "output_type": "execute_result"
    }
   ],
   "source": [
    "df3.head()"
   ]
  },
  {
   "cell_type": "code",
   "execution_count": 9,
   "id": "5e064fbf",
   "metadata": {},
   "outputs": [
    {
     "name": "stdout",
     "output_type": "stream",
     "text": [
      " ML Case (df1) Study dataset contains 1589 rows and 8 columns.\n"
     ]
    }
   ],
   "source": [
    "print(' ML Case (df1) Study dataset contains ' + format(df1.shape[0]) + ' rows and ' + format(df1.shape[1]) + ' columns.')"
   ]
  },
  {
   "cell_type": "code",
   "execution_count": 10,
   "id": "6defe1e8",
   "metadata": {},
   "outputs": [
    {
     "name": "stdout",
     "output_type": "stream",
     "text": [
      "<class 'pandas.core.frame.DataFrame'>\n",
      "RangeIndex: 1589 entries, 0 to 1588\n",
      "Data columns (total 8 columns):\n",
      " #   Column               Non-Null Count  Dtype  \n",
      "---  ------               --------------  -----  \n",
      " 0   College              1589 non-null   object \n",
      " 1   City                 1589 non-null   object \n",
      " 2   Role                 1589 non-null   object \n",
      " 3   Previous CTC         1589 non-null   float64\n",
      " 4   Previous job change  1589 non-null   int64  \n",
      " 5   Graduation Marks     1589 non-null   int64  \n",
      " 6   EXP (Month)          1589 non-null   int64  \n",
      " 7   CTC                  1589 non-null   float64\n",
      "dtypes: float64(2), int64(3), object(3)\n",
      "memory usage: 99.4+ KB\n"
     ]
    }
   ],
   "source": [
    "\n",
    "df1.info()"
   ]
  },
  {
   "cell_type": "code",
   "execution_count": 11,
   "id": "52a4fba1",
   "metadata": {},
   "outputs": [
    {
     "name": "stdout",
     "output_type": "stream",
     "text": [
      " College (df2) Study dataset contains 28 rows and 3 columns.\n"
     ]
    }
   ],
   "source": [
    "print(' College (df2) Study dataset contains ' + format(df2.shape[0]) + ' rows and ' + format(df2.shape[1]) + ' columns.')\n"
   ]
  },
  {
   "cell_type": "code",
   "execution_count": 12,
   "id": "c8f7fb30",
   "metadata": {},
   "outputs": [
    {
     "name": "stdout",
     "output_type": "stream",
     "text": [
      "<class 'pandas.core.frame.DataFrame'>\n",
      "RangeIndex: 28 entries, 0 to 27\n",
      "Data columns (total 3 columns):\n",
      " #   Column  Non-Null Count  Dtype \n",
      "---  ------  --------------  ----- \n",
      " 0   Tier 1  22 non-null     object\n",
      " 1   Tier 2  28 non-null     object\n",
      " 2   Tier 3  19 non-null     object\n",
      "dtypes: object(3)\n",
      "memory usage: 800.0+ bytes\n"
     ]
    }
   ],
   "source": [
    "df2.info()"
   ]
  },
  {
   "cell_type": "code",
   "execution_count": 13,
   "id": "2d64440c",
   "metadata": {},
   "outputs": [
    {
     "name": "stdout",
     "output_type": "stream",
     "text": [
      " City (df3) Study dataset contains 9 rows and 2 columns.\n"
     ]
    }
   ],
   "source": [
    "print(' City (df3) Study dataset contains ' + format(df3.shape[0]) + ' rows and ' + format(df3.shape[1]) + ' columns.')"
   ]
  },
  {
   "cell_type": "code",
   "execution_count": 14,
   "id": "40d06403",
   "metadata": {},
   "outputs": [
    {
     "name": "stdout",
     "output_type": "stream",
     "text": [
      "<class 'pandas.core.frame.DataFrame'>\n",
      "RangeIndex: 9 entries, 0 to 8\n",
      "Data columns (total 2 columns):\n",
      " #   Column            Non-Null Count  Dtype \n",
      "---  ------            --------------  ----- \n",
      " 0   Metrio City       9 non-null      object\n",
      " 1   non-metro cities  8 non-null      object\n",
      "dtypes: object(2)\n",
      "memory usage: 272.0+ bytes\n"
     ]
    }
   ],
   "source": [
    "\n",
    "df3.info()"
   ]
  },
  {
   "cell_type": "code",
   "execution_count": 15,
   "id": "ddcad156",
   "metadata": {},
   "outputs": [
    {
     "data": {
      "text/plain": [
       "College                0\n",
       "City                   0\n",
       "Role                   0\n",
       "Previous CTC           0\n",
       "Previous job change    0\n",
       "Graduation Marks       0\n",
       "EXP (Month)            0\n",
       "CTC                    0\n",
       "dtype: int64"
      ]
     },
     "execution_count": 15,
     "metadata": {},
     "output_type": "execute_result"
    }
   ],
   "source": [
    "df1.isnull().sum()"
   ]
  },
  {
   "cell_type": "code",
   "execution_count": 16,
   "id": "d632aa06",
   "metadata": {},
   "outputs": [],
   "source": [
    "df1 = df1.merge(df2[['Tier 1', 'Tier 2', 'Tier 3']], how='left', left_on='College', right_on='Tier 1')"
   ]
  },
  {
   "cell_type": "code",
   "execution_count": 17,
   "id": "70e852f2",
   "metadata": {},
   "outputs": [],
   "source": [
    "df1['College type'] = df1.apply(lambda row: 'Tier 1' if pd.notna(row['Tier 1']) else ('Tier 2' if pd.notna(row['Tier 2']) else 'Tier 3'), axis=1)"
   ]
  },
  {
   "cell_type": "code",
   "execution_count": 18,
   "id": "7c3c57e1",
   "metadata": {},
   "outputs": [],
   "source": [
    "df1.to_csv('df1_with_College Type.csv', index=False)\n"
   ]
  },
  {
   "cell_type": "code",
   "execution_count": 19,
   "id": "1a0dbce0",
   "metadata": {},
   "outputs": [],
   "source": [
    "df1 = df1.merge(df3[['Metrio City', 'non-metro cities']], how='left', left_on='City', right_on='Metrio City')"
   ]
  },
  {
   "cell_type": "code",
   "execution_count": 21,
   "id": "72fe9c50",
   "metadata": {},
   "outputs": [],
   "source": [
    "df1['City Type'] = df1.apply(lambda row: 'Metrio City' if pd.notna(row['Metrio City']) else 'non-metro cities', axis=1)\n"
   ]
  },
  {
   "cell_type": "code",
   "execution_count": 22,
   "id": "103b74ac",
   "metadata": {},
   "outputs": [],
   "source": [
    "df1.to_csv('df1_with_City Type.csv', index=False)"
   ]
  },
  {
   "cell_type": "code",
   "execution_count": 23,
   "id": "e4b5ae8d",
   "metadata": {},
   "outputs": [
    {
     "data": {
      "text/html": [
       "<div>\n",
       "<style scoped>\n",
       "    .dataframe tbody tr th:only-of-type {\n",
       "        vertical-align: middle;\n",
       "    }\n",
       "\n",
       "    .dataframe tbody tr th {\n",
       "        vertical-align: top;\n",
       "    }\n",
       "\n",
       "    .dataframe thead th {\n",
       "        text-align: right;\n",
       "    }\n",
       "</style>\n",
       "<table border=\"1\" class=\"dataframe\">\n",
       "  <thead>\n",
       "    <tr style=\"text-align: right;\">\n",
       "      <th></th>\n",
       "      <th>College</th>\n",
       "      <th>City</th>\n",
       "      <th>Role</th>\n",
       "      <th>Previous CTC</th>\n",
       "      <th>Previous job change</th>\n",
       "      <th>Graduation Marks</th>\n",
       "      <th>EXP (Month)</th>\n",
       "      <th>CTC</th>\n",
       "      <th>Tier 1</th>\n",
       "      <th>Tier 2</th>\n",
       "      <th>Tier 3</th>\n",
       "      <th>College type</th>\n",
       "      <th>Metrio City</th>\n",
       "      <th>non-metro cities</th>\n",
       "      <th>City Type</th>\n",
       "    </tr>\n",
       "  </thead>\n",
       "  <tbody>\n",
       "    <tr>\n",
       "      <th>0</th>\n",
       "      <td>SVNIT Surat</td>\n",
       "      <td>Asansol</td>\n",
       "      <td>Manager</td>\n",
       "      <td>55523.0</td>\n",
       "      <td>3</td>\n",
       "      <td>66</td>\n",
       "      <td>19</td>\n",
       "      <td>71406.58</td>\n",
       "      <td>NaN</td>\n",
       "      <td>NaN</td>\n",
       "      <td>NaN</td>\n",
       "      <td>Tier 3</td>\n",
       "      <td>NaN</td>\n",
       "      <td>NaN</td>\n",
       "      <td>non-metro cities</td>\n",
       "    </tr>\n",
       "    <tr>\n",
       "      <th>1</th>\n",
       "      <td>NIT Bhopal</td>\n",
       "      <td>Ajmer</td>\n",
       "      <td>Executive</td>\n",
       "      <td>57081.0</td>\n",
       "      <td>1</td>\n",
       "      <td>84</td>\n",
       "      <td>18</td>\n",
       "      <td>68005.87</td>\n",
       "      <td>NaN</td>\n",
       "      <td>NaN</td>\n",
       "      <td>NaN</td>\n",
       "      <td>Tier 3</td>\n",
       "      <td>NaN</td>\n",
       "      <td>NaN</td>\n",
       "      <td>non-metro cities</td>\n",
       "    </tr>\n",
       "    <tr>\n",
       "      <th>2</th>\n",
       "      <td>IEM, Kolkata</td>\n",
       "      <td>Rajpur Sonarpur</td>\n",
       "      <td>Executive</td>\n",
       "      <td>60347.0</td>\n",
       "      <td>2</td>\n",
       "      <td>52</td>\n",
       "      <td>28</td>\n",
       "      <td>76764.02</td>\n",
       "      <td>NaN</td>\n",
       "      <td>NaN</td>\n",
       "      <td>NaN</td>\n",
       "      <td>Tier 3</td>\n",
       "      <td>NaN</td>\n",
       "      <td>NaN</td>\n",
       "      <td>non-metro cities</td>\n",
       "    </tr>\n",
       "    <tr>\n",
       "      <th>3</th>\n",
       "      <td>KIIT, Bhubaneswar</td>\n",
       "      <td>Ajmer</td>\n",
       "      <td>Executive</td>\n",
       "      <td>49010.0</td>\n",
       "      <td>2</td>\n",
       "      <td>81</td>\n",
       "      <td>33</td>\n",
       "      <td>82092.39</td>\n",
       "      <td>NaN</td>\n",
       "      <td>NaN</td>\n",
       "      <td>NaN</td>\n",
       "      <td>Tier 3</td>\n",
       "      <td>NaN</td>\n",
       "      <td>NaN</td>\n",
       "      <td>non-metro cities</td>\n",
       "    </tr>\n",
       "    <tr>\n",
       "      <th>4</th>\n",
       "      <td>DTU</td>\n",
       "      <td>Durgapur</td>\n",
       "      <td>Executive</td>\n",
       "      <td>57879.0</td>\n",
       "      <td>4</td>\n",
       "      <td>74</td>\n",
       "      <td>32</td>\n",
       "      <td>73878.10</td>\n",
       "      <td>DTU</td>\n",
       "      <td>BIT Mesra</td>\n",
       "      <td>Heritage Institute of Technology, Kolkata</td>\n",
       "      <td>Tier 1</td>\n",
       "      <td>NaN</td>\n",
       "      <td>NaN</td>\n",
       "      <td>non-metro cities</td>\n",
       "    </tr>\n",
       "  </tbody>\n",
       "</table>\n",
       "</div>"
      ],
      "text/plain": [
       "             College             City       Role  Previous CTC  \\\n",
       "0        SVNIT Surat          Asansol    Manager       55523.0   \n",
       "1         NIT Bhopal            Ajmer  Executive       57081.0   \n",
       "2       IEM, Kolkata  Rajpur Sonarpur  Executive       60347.0   \n",
       "3  KIIT, Bhubaneswar            Ajmer  Executive       49010.0   \n",
       "4                DTU         Durgapur  Executive       57879.0   \n",
       "\n",
       "   Previous job change  Graduation Marks  EXP (Month)       CTC Tier 1  \\\n",
       "0                    3                66           19  71406.58    NaN   \n",
       "1                    1                84           18  68005.87    NaN   \n",
       "2                    2                52           28  76764.02    NaN   \n",
       "3                    2                81           33  82092.39    NaN   \n",
       "4                    4                74           32  73878.10    DTU   \n",
       "\n",
       "      Tier 2                                     Tier 3 College type  \\\n",
       "0        NaN                                        NaN       Tier 3   \n",
       "1        NaN                                        NaN       Tier 3   \n",
       "2        NaN                                        NaN       Tier 3   \n",
       "3        NaN                                        NaN       Tier 3   \n",
       "4  BIT Mesra  Heritage Institute of Technology, Kolkata       Tier 1   \n",
       "\n",
       "  Metrio City non-metro cities         City Type  \n",
       "0         NaN              NaN  non-metro cities  \n",
       "1         NaN              NaN  non-metro cities  \n",
       "2         NaN              NaN  non-metro cities  \n",
       "3         NaN              NaN  non-metro cities  \n",
       "4         NaN              NaN  non-metro cities  "
      ]
     },
     "execution_count": 23,
     "metadata": {},
     "output_type": "execute_result"
    }
   ],
   "source": [
    "df1.head(5)"
   ]
  },
  {
   "cell_type": "code",
   "execution_count": 24,
   "id": "5c9bd28b",
   "metadata": {},
   "outputs": [],
   "source": [
    "df1 = df1.drop(columns='non-metro cities')"
   ]
  },
  {
   "cell_type": "code",
   "execution_count": 25,
   "id": "c9cc7690",
   "metadata": {},
   "outputs": [],
   "source": [
    "df1 = df1.drop(columns='Metrio City')"
   ]
  },
  {
   "cell_type": "code",
   "execution_count": 26,
   "id": "3ef11b06",
   "metadata": {},
   "outputs": [],
   "source": [
    "df1 = df1.drop(columns='Tier 1')"
   ]
  },
  {
   "cell_type": "code",
   "execution_count": 27,
   "id": "70c5e542",
   "metadata": {},
   "outputs": [],
   "source": [
    "df1 = df1.drop(columns='Tier 2')"
   ]
  },
  {
   "cell_type": "code",
   "execution_count": 28,
   "id": "0b357d34",
   "metadata": {},
   "outputs": [],
   "source": [
    "df1 = df1.drop(columns='Tier 3')"
   ]
  },
  {
   "cell_type": "code",
   "execution_count": 29,
   "id": "89799084",
   "metadata": {},
   "outputs": [
    {
     "data": {
      "text/plain": [
       "(1589, 10)"
      ]
     },
     "execution_count": 29,
     "metadata": {},
     "output_type": "execute_result"
    }
   ],
   "source": [
    "df1.shape"
   ]
  },
  {
   "cell_type": "code",
   "execution_count": 30,
   "id": "01a342cc",
   "metadata": {},
   "outputs": [
    {
     "name": "stdout",
     "output_type": "stream",
     "text": [
      "Tier 3    1011\n",
      "Tier 1     578\n",
      "Name: College type, dtype: int64\n"
     ]
    }
   ],
   "source": [
    "category_counts = df1['College type'].value_counts()\n",
    "print(category_counts)"
   ]
  },
  {
   "cell_type": "code",
   "execution_count": 31,
   "id": "785e8a2a",
   "metadata": {},
   "outputs": [
    {
     "name": "stdout",
     "output_type": "stream",
     "text": [
      "Metrio City         817\n",
      "non-metro cities    772\n",
      "Name: City Type, dtype: int64\n"
     ]
    }
   ],
   "source": [
    "category_counts = df1['City Type'].value_counts()\n",
    "print(category_counts)"
   ]
  },
  {
   "cell_type": "code",
   "execution_count": 32,
   "id": "fd0cfb7d",
   "metadata": {},
   "outputs": [
    {
     "name": "stdout",
     "output_type": "stream",
     "text": [
      "<class 'pandas.core.frame.DataFrame'>\n",
      "Int64Index: 1589 entries, 0 to 1588\n",
      "Data columns (total 10 columns):\n",
      " #   Column               Non-Null Count  Dtype  \n",
      "---  ------               --------------  -----  \n",
      " 0   College              1589 non-null   object \n",
      " 1   City                 1589 non-null   object \n",
      " 2   Role                 1589 non-null   object \n",
      " 3   Previous CTC         1589 non-null   float64\n",
      " 4   Previous job change  1589 non-null   int64  \n",
      " 5   Graduation Marks     1589 non-null   int64  \n",
      " 6   EXP (Month)          1589 non-null   int64  \n",
      " 7   CTC                  1589 non-null   float64\n",
      " 8   College type         1589 non-null   object \n",
      " 9   City Type            1589 non-null   object \n",
      "dtypes: float64(2), int64(3), object(5)\n",
      "memory usage: 136.6+ KB\n"
     ]
    }
   ],
   "source": [
    "df1.info()"
   ]
  },
  {
   "cell_type": "code",
   "execution_count": 33,
   "id": "29f98ee0",
   "metadata": {},
   "outputs": [],
   "source": [
    "categorical_column = ['College type','City Type','Role']"
   ]
  },
  {
   "cell_type": "code",
   "execution_count": 34,
   "id": "f07d89f7",
   "metadata": {},
   "outputs": [],
   "source": [
    "df1 = pd.get_dummies(df1, columns=categorical_column)"
   ]
  },
  {
   "cell_type": "code",
   "execution_count": 35,
   "id": "51315bb4",
   "metadata": {},
   "outputs": [
    {
     "data": {
      "text/html": [
       "<div>\n",
       "<style scoped>\n",
       "    .dataframe tbody tr th:only-of-type {\n",
       "        vertical-align: middle;\n",
       "    }\n",
       "\n",
       "    .dataframe tbody tr th {\n",
       "        vertical-align: top;\n",
       "    }\n",
       "\n",
       "    .dataframe thead th {\n",
       "        text-align: right;\n",
       "    }\n",
       "</style>\n",
       "<table border=\"1\" class=\"dataframe\">\n",
       "  <thead>\n",
       "    <tr style=\"text-align: right;\">\n",
       "      <th></th>\n",
       "      <th>College</th>\n",
       "      <th>City</th>\n",
       "      <th>Previous CTC</th>\n",
       "      <th>Previous job change</th>\n",
       "      <th>Graduation Marks</th>\n",
       "      <th>EXP (Month)</th>\n",
       "      <th>CTC</th>\n",
       "      <th>College type_Tier 1</th>\n",
       "      <th>College type_Tier 3</th>\n",
       "      <th>City Type_Metrio City</th>\n",
       "      <th>City Type_non-metro cities</th>\n",
       "      <th>Role_Executive</th>\n",
       "      <th>Role_Manager</th>\n",
       "    </tr>\n",
       "  </thead>\n",
       "  <tbody>\n",
       "    <tr>\n",
       "      <th>0</th>\n",
       "      <td>SVNIT Surat</td>\n",
       "      <td>Asansol</td>\n",
       "      <td>55523.0</td>\n",
       "      <td>3</td>\n",
       "      <td>66</td>\n",
       "      <td>19</td>\n",
       "      <td>71406.58</td>\n",
       "      <td>0</td>\n",
       "      <td>1</td>\n",
       "      <td>0</td>\n",
       "      <td>1</td>\n",
       "      <td>0</td>\n",
       "      <td>1</td>\n",
       "    </tr>\n",
       "    <tr>\n",
       "      <th>1</th>\n",
       "      <td>NIT Bhopal</td>\n",
       "      <td>Ajmer</td>\n",
       "      <td>57081.0</td>\n",
       "      <td>1</td>\n",
       "      <td>84</td>\n",
       "      <td>18</td>\n",
       "      <td>68005.87</td>\n",
       "      <td>0</td>\n",
       "      <td>1</td>\n",
       "      <td>0</td>\n",
       "      <td>1</td>\n",
       "      <td>1</td>\n",
       "      <td>0</td>\n",
       "    </tr>\n",
       "    <tr>\n",
       "      <th>2</th>\n",
       "      <td>IEM, Kolkata</td>\n",
       "      <td>Rajpur Sonarpur</td>\n",
       "      <td>60347.0</td>\n",
       "      <td>2</td>\n",
       "      <td>52</td>\n",
       "      <td>28</td>\n",
       "      <td>76764.02</td>\n",
       "      <td>0</td>\n",
       "      <td>1</td>\n",
       "      <td>0</td>\n",
       "      <td>1</td>\n",
       "      <td>1</td>\n",
       "      <td>0</td>\n",
       "    </tr>\n",
       "    <tr>\n",
       "      <th>3</th>\n",
       "      <td>KIIT, Bhubaneswar</td>\n",
       "      <td>Ajmer</td>\n",
       "      <td>49010.0</td>\n",
       "      <td>2</td>\n",
       "      <td>81</td>\n",
       "      <td>33</td>\n",
       "      <td>82092.39</td>\n",
       "      <td>0</td>\n",
       "      <td>1</td>\n",
       "      <td>0</td>\n",
       "      <td>1</td>\n",
       "      <td>1</td>\n",
       "      <td>0</td>\n",
       "    </tr>\n",
       "    <tr>\n",
       "      <th>4</th>\n",
       "      <td>DTU</td>\n",
       "      <td>Durgapur</td>\n",
       "      <td>57879.0</td>\n",
       "      <td>4</td>\n",
       "      <td>74</td>\n",
       "      <td>32</td>\n",
       "      <td>73878.10</td>\n",
       "      <td>1</td>\n",
       "      <td>0</td>\n",
       "      <td>0</td>\n",
       "      <td>1</td>\n",
       "      <td>1</td>\n",
       "      <td>0</td>\n",
       "    </tr>\n",
       "  </tbody>\n",
       "</table>\n",
       "</div>"
      ],
      "text/plain": [
       "             College             City  Previous CTC  Previous job change  \\\n",
       "0        SVNIT Surat          Asansol       55523.0                    3   \n",
       "1         NIT Bhopal            Ajmer       57081.0                    1   \n",
       "2       IEM, Kolkata  Rajpur Sonarpur       60347.0                    2   \n",
       "3  KIIT, Bhubaneswar            Ajmer       49010.0                    2   \n",
       "4                DTU         Durgapur       57879.0                    4   \n",
       "\n",
       "   Graduation Marks  EXP (Month)       CTC  College type_Tier 1  \\\n",
       "0                66           19  71406.58                    0   \n",
       "1                84           18  68005.87                    0   \n",
       "2                52           28  76764.02                    0   \n",
       "3                81           33  82092.39                    0   \n",
       "4                74           32  73878.10                    1   \n",
       "\n",
       "   College type_Tier 3  City Type_Metrio City  City Type_non-metro cities  \\\n",
       "0                    1                      0                           1   \n",
       "1                    1                      0                           1   \n",
       "2                    1                      0                           1   \n",
       "3                    1                      0                           1   \n",
       "4                    0                      0                           1   \n",
       "\n",
       "   Role_Executive  Role_Manager  \n",
       "0               0             1  \n",
       "1               1             0  \n",
       "2               1             0  \n",
       "3               1             0  \n",
       "4               1             0  "
      ]
     },
     "execution_count": 35,
     "metadata": {},
     "output_type": "execute_result"
    }
   ],
   "source": [
    "df1.head()"
   ]
  },
  {
   "cell_type": "code",
   "execution_count": 36,
   "id": "741661bf",
   "metadata": {},
   "outputs": [],
   "source": [
    "df1 = df1.drop(columns='City')"
   ]
  },
  {
   "cell_type": "code",
   "execution_count": 37,
   "id": "2b8ff67d",
   "metadata": {},
   "outputs": [],
   "source": [
    "df1 = df1.drop(columns='College')"
   ]
  },
  {
   "cell_type": "code",
   "execution_count": 38,
   "id": "76ee56b1",
   "metadata": {},
   "outputs": [
    {
     "data": {
      "text/html": [
       "<div>\n",
       "<style scoped>\n",
       "    .dataframe tbody tr th:only-of-type {\n",
       "        vertical-align: middle;\n",
       "    }\n",
       "\n",
       "    .dataframe tbody tr th {\n",
       "        vertical-align: top;\n",
       "    }\n",
       "\n",
       "    .dataframe thead th {\n",
       "        text-align: right;\n",
       "    }\n",
       "</style>\n",
       "<table border=\"1\" class=\"dataframe\">\n",
       "  <thead>\n",
       "    <tr style=\"text-align: right;\">\n",
       "      <th></th>\n",
       "      <th>Previous CTC</th>\n",
       "      <th>Previous job change</th>\n",
       "      <th>Graduation Marks</th>\n",
       "      <th>EXP (Month)</th>\n",
       "      <th>CTC</th>\n",
       "      <th>College type_Tier 1</th>\n",
       "      <th>College type_Tier 3</th>\n",
       "      <th>City Type_Metrio City</th>\n",
       "      <th>City Type_non-metro cities</th>\n",
       "      <th>Role_Executive</th>\n",
       "      <th>Role_Manager</th>\n",
       "    </tr>\n",
       "  </thead>\n",
       "  <tbody>\n",
       "    <tr>\n",
       "      <th>0</th>\n",
       "      <td>55523.0</td>\n",
       "      <td>3</td>\n",
       "      <td>66</td>\n",
       "      <td>19</td>\n",
       "      <td>71406.58</td>\n",
       "      <td>0</td>\n",
       "      <td>1</td>\n",
       "      <td>0</td>\n",
       "      <td>1</td>\n",
       "      <td>0</td>\n",
       "      <td>1</td>\n",
       "    </tr>\n",
       "    <tr>\n",
       "      <th>1</th>\n",
       "      <td>57081.0</td>\n",
       "      <td>1</td>\n",
       "      <td>84</td>\n",
       "      <td>18</td>\n",
       "      <td>68005.87</td>\n",
       "      <td>0</td>\n",
       "      <td>1</td>\n",
       "      <td>0</td>\n",
       "      <td>1</td>\n",
       "      <td>1</td>\n",
       "      <td>0</td>\n",
       "    </tr>\n",
       "    <tr>\n",
       "      <th>2</th>\n",
       "      <td>60347.0</td>\n",
       "      <td>2</td>\n",
       "      <td>52</td>\n",
       "      <td>28</td>\n",
       "      <td>76764.02</td>\n",
       "      <td>0</td>\n",
       "      <td>1</td>\n",
       "      <td>0</td>\n",
       "      <td>1</td>\n",
       "      <td>1</td>\n",
       "      <td>0</td>\n",
       "    </tr>\n",
       "    <tr>\n",
       "      <th>3</th>\n",
       "      <td>49010.0</td>\n",
       "      <td>2</td>\n",
       "      <td>81</td>\n",
       "      <td>33</td>\n",
       "      <td>82092.39</td>\n",
       "      <td>0</td>\n",
       "      <td>1</td>\n",
       "      <td>0</td>\n",
       "      <td>1</td>\n",
       "      <td>1</td>\n",
       "      <td>0</td>\n",
       "    </tr>\n",
       "    <tr>\n",
       "      <th>4</th>\n",
       "      <td>57879.0</td>\n",
       "      <td>4</td>\n",
       "      <td>74</td>\n",
       "      <td>32</td>\n",
       "      <td>73878.10</td>\n",
       "      <td>1</td>\n",
       "      <td>0</td>\n",
       "      <td>0</td>\n",
       "      <td>1</td>\n",
       "      <td>1</td>\n",
       "      <td>0</td>\n",
       "    </tr>\n",
       "  </tbody>\n",
       "</table>\n",
       "</div>"
      ],
      "text/plain": [
       "   Previous CTC  Previous job change  Graduation Marks  EXP (Month)       CTC  \\\n",
       "0       55523.0                    3                66           19  71406.58   \n",
       "1       57081.0                    1                84           18  68005.87   \n",
       "2       60347.0                    2                52           28  76764.02   \n",
       "3       49010.0                    2                81           33  82092.39   \n",
       "4       57879.0                    4                74           32  73878.10   \n",
       "\n",
       "   College type_Tier 1  College type_Tier 3  City Type_Metrio City  \\\n",
       "0                    0                    1                      0   \n",
       "1                    0                    1                      0   \n",
       "2                    0                    1                      0   \n",
       "3                    0                    1                      0   \n",
       "4                    1                    0                      0   \n",
       "\n",
       "   City Type_non-metro cities  Role_Executive  Role_Manager  \n",
       "0                           1               0             1  \n",
       "1                           1               1             0  \n",
       "2                           1               1             0  \n",
       "3                           1               1             0  \n",
       "4                           1               1             0  "
      ]
     },
     "execution_count": 38,
     "metadata": {},
     "output_type": "execute_result"
    }
   ],
   "source": [
    "df1.head()"
   ]
  },
  {
   "cell_type": "code",
   "execution_count": 39,
   "id": "12a0cbb2",
   "metadata": {},
   "outputs": [
    {
     "data": {
      "text/plain": [
       "Previous CTC                  float64\n",
       "Previous job change             int64\n",
       "Graduation Marks                int64\n",
       "EXP (Month)                     int64\n",
       "CTC                           float64\n",
       "College type_Tier 1             uint8\n",
       "College type_Tier 3             uint8\n",
       "City Type_Metrio City           uint8\n",
       "City Type_non-metro cities      uint8\n",
       "Role_Executive                  uint8\n",
       "Role_Manager                    uint8\n",
       "dtype: object"
      ]
     },
     "execution_count": 39,
     "metadata": {},
     "output_type": "execute_result"
    }
   ],
   "source": [
    "df1.dtypes"
   ]
  },
  {
   "cell_type": "code",
   "execution_count": 40,
   "id": "a8ea08eb",
   "metadata": {},
   "outputs": [
    {
     "data": {
      "text/html": [
       "<div>\n",
       "<style scoped>\n",
       "    .dataframe tbody tr th:only-of-type {\n",
       "        vertical-align: middle;\n",
       "    }\n",
       "\n",
       "    .dataframe tbody tr th {\n",
       "        vertical-align: top;\n",
       "    }\n",
       "\n",
       "    .dataframe thead th {\n",
       "        text-align: right;\n",
       "    }\n",
       "</style>\n",
       "<table border=\"1\" class=\"dataframe\">\n",
       "  <thead>\n",
       "    <tr style=\"text-align: right;\">\n",
       "      <th></th>\n",
       "      <th>Previous CTC</th>\n",
       "      <th>Previous job change</th>\n",
       "      <th>Graduation Marks</th>\n",
       "      <th>EXP (Month)</th>\n",
       "      <th>CTC</th>\n",
       "      <th>College type_Tier 1</th>\n",
       "      <th>College type_Tier 3</th>\n",
       "      <th>City Type_Metrio City</th>\n",
       "      <th>City Type_non-metro cities</th>\n",
       "      <th>Role_Executive</th>\n",
       "      <th>Role_Manager</th>\n",
       "    </tr>\n",
       "  </thead>\n",
       "  <tbody>\n",
       "    <tr>\n",
       "      <th>count</th>\n",
       "      <td>1589.000000</td>\n",
       "      <td>1589.000000</td>\n",
       "      <td>1589.000000</td>\n",
       "      <td>1589.000000</td>\n",
       "      <td>1589.000000</td>\n",
       "      <td>1589.000000</td>\n",
       "      <td>1589.000000</td>\n",
       "      <td>1589.000000</td>\n",
       "      <td>1589.000000</td>\n",
       "      <td>1589.000000</td>\n",
       "      <td>1589.000000</td>\n",
       "    </tr>\n",
       "    <tr>\n",
       "      <th>mean</th>\n",
       "      <td>55518.453744</td>\n",
       "      <td>2.528634</td>\n",
       "      <td>59.855255</td>\n",
       "      <td>39.044682</td>\n",
       "      <td>75353.278798</td>\n",
       "      <td>0.363751</td>\n",
       "      <td>0.636249</td>\n",
       "      <td>0.514160</td>\n",
       "      <td>0.485840</td>\n",
       "      <td>0.793581</td>\n",
       "      <td>0.206419</td>\n",
       "    </tr>\n",
       "    <tr>\n",
       "      <th>std</th>\n",
       "      <td>6655.218445</td>\n",
       "      <td>1.123918</td>\n",
       "      <td>14.935139</td>\n",
       "      <td>14.108875</td>\n",
       "      <td>12587.288237</td>\n",
       "      <td>0.481230</td>\n",
       "      <td>0.481230</td>\n",
       "      <td>0.499957</td>\n",
       "      <td>0.499957</td>\n",
       "      <td>0.404862</td>\n",
       "      <td>0.404862</td>\n",
       "    </tr>\n",
       "    <tr>\n",
       "      <th>min</th>\n",
       "      <td>36990.000000</td>\n",
       "      <td>1.000000</td>\n",
       "      <td>35.000000</td>\n",
       "      <td>18.000000</td>\n",
       "      <td>53020.320000</td>\n",
       "      <td>0.000000</td>\n",
       "      <td>0.000000</td>\n",
       "      <td>0.000000</td>\n",
       "      <td>0.000000</td>\n",
       "      <td>0.000000</td>\n",
       "      <td>0.000000</td>\n",
       "    </tr>\n",
       "    <tr>\n",
       "      <th>25%</th>\n",
       "      <td>50518.000000</td>\n",
       "      <td>2.000000</td>\n",
       "      <td>46.000000</td>\n",
       "      <td>26.000000</td>\n",
       "      <td>66902.350000</td>\n",
       "      <td>0.000000</td>\n",
       "      <td>0.000000</td>\n",
       "      <td>0.000000</td>\n",
       "      <td>0.000000</td>\n",
       "      <td>1.000000</td>\n",
       "      <td>0.000000</td>\n",
       "    </tr>\n",
       "    <tr>\n",
       "      <th>50%</th>\n",
       "      <td>55291.000000</td>\n",
       "      <td>3.000000</td>\n",
       "      <td>60.000000</td>\n",
       "      <td>39.000000</td>\n",
       "      <td>73028.670000</td>\n",
       "      <td>0.000000</td>\n",
       "      <td>1.000000</td>\n",
       "      <td>1.000000</td>\n",
       "      <td>0.000000</td>\n",
       "      <td>1.000000</td>\n",
       "      <td>0.000000</td>\n",
       "    </tr>\n",
       "    <tr>\n",
       "      <th>75%</th>\n",
       "      <td>60109.000000</td>\n",
       "      <td>4.000000</td>\n",
       "      <td>73.000000</td>\n",
       "      <td>51.000000</td>\n",
       "      <td>80588.670000</td>\n",
       "      <td>1.000000</td>\n",
       "      <td>1.000000</td>\n",
       "      <td>1.000000</td>\n",
       "      <td>1.000000</td>\n",
       "      <td>1.000000</td>\n",
       "      <td>0.000000</td>\n",
       "    </tr>\n",
       "    <tr>\n",
       "      <th>max</th>\n",
       "      <td>77911.000000</td>\n",
       "      <td>4.000000</td>\n",
       "      <td>85.000000</td>\n",
       "      <td>64.000000</td>\n",
       "      <td>123416.990000</td>\n",
       "      <td>1.000000</td>\n",
       "      <td>1.000000</td>\n",
       "      <td>1.000000</td>\n",
       "      <td>1.000000</td>\n",
       "      <td>1.000000</td>\n",
       "      <td>1.000000</td>\n",
       "    </tr>\n",
       "  </tbody>\n",
       "</table>\n",
       "</div>"
      ],
      "text/plain": [
       "       Previous CTC  Previous job change  Graduation Marks  EXP (Month)  \\\n",
       "count   1589.000000          1589.000000       1589.000000  1589.000000   \n",
       "mean   55518.453744             2.528634         59.855255    39.044682   \n",
       "std     6655.218445             1.123918         14.935139    14.108875   \n",
       "min    36990.000000             1.000000         35.000000    18.000000   \n",
       "25%    50518.000000             2.000000         46.000000    26.000000   \n",
       "50%    55291.000000             3.000000         60.000000    39.000000   \n",
       "75%    60109.000000             4.000000         73.000000    51.000000   \n",
       "max    77911.000000             4.000000         85.000000    64.000000   \n",
       "\n",
       "                 CTC  College type_Tier 1  College type_Tier 3  \\\n",
       "count    1589.000000          1589.000000          1589.000000   \n",
       "mean    75353.278798             0.363751             0.636249   \n",
       "std     12587.288237             0.481230             0.481230   \n",
       "min     53020.320000             0.000000             0.000000   \n",
       "25%     66902.350000             0.000000             0.000000   \n",
       "50%     73028.670000             0.000000             1.000000   \n",
       "75%     80588.670000             1.000000             1.000000   \n",
       "max    123416.990000             1.000000             1.000000   \n",
       "\n",
       "       City Type_Metrio City  City Type_non-metro cities  Role_Executive  \\\n",
       "count            1589.000000                 1589.000000     1589.000000   \n",
       "mean                0.514160                    0.485840        0.793581   \n",
       "std                 0.499957                    0.499957        0.404862   \n",
       "min                 0.000000                    0.000000        0.000000   \n",
       "25%                 0.000000                    0.000000        1.000000   \n",
       "50%                 1.000000                    0.000000        1.000000   \n",
       "75%                 1.000000                    1.000000        1.000000   \n",
       "max                 1.000000                    1.000000        1.000000   \n",
       "\n",
       "       Role_Manager  \n",
       "count   1589.000000  \n",
       "mean       0.206419  \n",
       "std        0.404862  \n",
       "min        0.000000  \n",
       "25%        0.000000  \n",
       "50%        0.000000  \n",
       "75%        0.000000  \n",
       "max        1.000000  "
      ]
     },
     "execution_count": 40,
     "metadata": {},
     "output_type": "execute_result"
    }
   ],
   "source": [
    "df1.describe()"
   ]
  },
  {
   "cell_type": "code",
   "execution_count": 41,
   "id": "175d834b",
   "metadata": {},
   "outputs": [
    {
     "data": {
      "text/plain": [
       "0    1011\n",
       "1     578\n",
       "Name: College type_Tier 1, dtype: int64"
      ]
     },
     "metadata": {},
     "output_type": "display_data"
    },
    {
     "data": {
      "text/plain": [
       "0    0.636249\n",
       "1    0.363751\n",
       "Name: College type_Tier 1, dtype: float64"
      ]
     },
     "metadata": {},
     "output_type": "display_data"
    },
    {
     "name": "stdout",
     "output_type": "stream",
     "text": [
      "Total- 1589\n"
     ]
    }
   ],
   "source": [
    "display(df1[\"College type_Tier 1\"].value_counts())\n",
    "display(df1[\"College type_Tier 1\"].value_counts(normalize=True))\n",
    "print(\"Total- \"+ str(df1[\"College type_Tier 1\"].value_counts().sum()))"
   ]
  },
  {
   "cell_type": "code",
   "execution_count": 42,
   "id": "fcec1210",
   "metadata": {},
   "outputs": [
    {
     "data": {
      "text/plain": [
       "1    1011\n",
       "0     578\n",
       "Name: College type_Tier 3, dtype: int64"
      ]
     },
     "metadata": {},
     "output_type": "display_data"
    },
    {
     "data": {
      "text/plain": [
       "1    0.636249\n",
       "0    0.363751\n",
       "Name: College type_Tier 3, dtype: float64"
      ]
     },
     "metadata": {},
     "output_type": "display_data"
    },
    {
     "name": "stdout",
     "output_type": "stream",
     "text": [
      "Total- 1589\n"
     ]
    }
   ],
   "source": [
    "display(df1[\"College type_Tier 3\"].value_counts())\n",
    "display(df1[\"College type_Tier 3\"].value_counts(normalize=True))\n",
    "print(\"Total- \"+ str(df1[\"College type_Tier 3\"].value_counts().sum()))"
   ]
  },
  {
   "cell_type": "code",
   "execution_count": 43,
   "id": "d10e9963",
   "metadata": {},
   "outputs": [
    {
     "data": {
      "text/plain": [
       "1    817\n",
       "0    772\n",
       "Name: City Type_Metrio City, dtype: int64"
      ]
     },
     "metadata": {},
     "output_type": "display_data"
    },
    {
     "data": {
      "text/plain": [
       "1    0.51416\n",
       "0    0.48584\n",
       "Name: City Type_Metrio City, dtype: float64"
      ]
     },
     "metadata": {},
     "output_type": "display_data"
    },
    {
     "name": "stdout",
     "output_type": "stream",
     "text": [
      "Total- 1589\n"
     ]
    }
   ],
   "source": [
    "display(df1[\"City Type_Metrio City\"].value_counts())\n",
    "display(df1[\"City Type_Metrio City\"].value_counts(normalize=True))\n",
    "print(\"Total- \"+ str(df1[\"City Type_Metrio City\"].value_counts().sum()))"
   ]
  },
  {
   "cell_type": "code",
   "execution_count": 44,
   "id": "b3edb8ab",
   "metadata": {},
   "outputs": [
    {
     "data": {
      "text/plain": [
       "0    817\n",
       "1    772\n",
       "Name: City Type_non-metro cities, dtype: int64"
      ]
     },
     "metadata": {},
     "output_type": "display_data"
    },
    {
     "data": {
      "text/plain": [
       "0    0.51416\n",
       "1    0.48584\n",
       "Name: City Type_non-metro cities, dtype: float64"
      ]
     },
     "metadata": {},
     "output_type": "display_data"
    },
    {
     "name": "stdout",
     "output_type": "stream",
     "text": [
      "Total- 1589\n"
     ]
    }
   ],
   "source": [
    "display(df1[\"City Type_non-metro cities\"].value_counts())\n",
    "display(df1[\"City Type_non-metro cities\"].value_counts(normalize=True))\n",
    "print(\"Total- \"+ str(df1[\"City Type_non-metro cities\"].value_counts().sum()))"
   ]
  },
  {
   "cell_type": "code",
   "execution_count": 45,
   "id": "9f85899e",
   "metadata": {},
   "outputs": [
    {
     "data": {
      "text/plain": [
       "1    1261\n",
       "0     328\n",
       "Name: Role_Executive, dtype: int64"
      ]
     },
     "metadata": {},
     "output_type": "display_data"
    },
    {
     "data": {
      "text/plain": [
       "1    0.793581\n",
       "0    0.206419\n",
       "Name: Role_Executive, dtype: float64"
      ]
     },
     "metadata": {},
     "output_type": "display_data"
    },
    {
     "name": "stdout",
     "output_type": "stream",
     "text": [
      "Total- 1589\n"
     ]
    }
   ],
   "source": [
    "display(df1[\"Role_Executive\"].value_counts())\n",
    "display(df1[\"Role_Executive\"].value_counts(normalize=True))\n",
    "print(\"Total- \"+ str(df1[\"Role_Executive\"].value_counts().sum()))"
   ]
  },
  {
   "cell_type": "code",
   "execution_count": 46,
   "id": "f82e0e46",
   "metadata": {},
   "outputs": [
    {
     "data": {
      "text/html": [
       "<div>\n",
       "<style scoped>\n",
       "    .dataframe tbody tr th:only-of-type {\n",
       "        vertical-align: middle;\n",
       "    }\n",
       "\n",
       "    .dataframe tbody tr th {\n",
       "        vertical-align: top;\n",
       "    }\n",
       "\n",
       "    .dataframe thead th {\n",
       "        text-align: right;\n",
       "    }\n",
       "</style>\n",
       "<table border=\"1\" class=\"dataframe\">\n",
       "  <thead>\n",
       "    <tr style=\"text-align: right;\">\n",
       "      <th></th>\n",
       "      <th>Previous CTC</th>\n",
       "      <th>Previous job change</th>\n",
       "      <th>Graduation Marks</th>\n",
       "      <th>EXP (Month)</th>\n",
       "      <th>CTC</th>\n",
       "      <th>College type_Tier 1</th>\n",
       "      <th>College type_Tier 3</th>\n",
       "      <th>City Type_Metrio City</th>\n",
       "      <th>City Type_non-metro cities</th>\n",
       "      <th>Role_Executive</th>\n",
       "      <th>Role_Manager</th>\n",
       "    </tr>\n",
       "  </thead>\n",
       "  <tbody>\n",
       "    <tr>\n",
       "      <th>Previous CTC</th>\n",
       "      <td>1.000000</td>\n",
       "      <td>0.005756</td>\n",
       "      <td>-0.032976</td>\n",
       "      <td>0.119163</td>\n",
       "      <td>0.258000</td>\n",
       "      <td>-0.031366</td>\n",
       "      <td>0.031366</td>\n",
       "      <td>0.004644</td>\n",
       "      <td>-0.004644</td>\n",
       "      <td>-0.012321</td>\n",
       "      <td>0.012321</td>\n",
       "    </tr>\n",
       "    <tr>\n",
       "      <th>Previous job change</th>\n",
       "      <td>0.005756</td>\n",
       "      <td>1.000000</td>\n",
       "      <td>0.019267</td>\n",
       "      <td>0.023488</td>\n",
       "      <td>0.011370</td>\n",
       "      <td>0.045931</td>\n",
       "      <td>-0.045931</td>\n",
       "      <td>0.051670</td>\n",
       "      <td>-0.051670</td>\n",
       "      <td>0.017150</td>\n",
       "      <td>-0.017150</td>\n",
       "    </tr>\n",
       "    <tr>\n",
       "      <th>Graduation Marks</th>\n",
       "      <td>-0.032976</td>\n",
       "      <td>0.019267</td>\n",
       "      <td>1.000000</td>\n",
       "      <td>-0.057061</td>\n",
       "      <td>-0.005450</td>\n",
       "      <td>0.005666</td>\n",
       "      <td>-0.005666</td>\n",
       "      <td>-0.018616</td>\n",
       "      <td>0.018616</td>\n",
       "      <td>-0.017858</td>\n",
       "      <td>0.017858</td>\n",
       "    </tr>\n",
       "    <tr>\n",
       "      <th>EXP (Month)</th>\n",
       "      <td>0.119163</td>\n",
       "      <td>0.023488</td>\n",
       "      <td>-0.057061</td>\n",
       "      <td>1.000000</td>\n",
       "      <td>0.301115</td>\n",
       "      <td>-0.003323</td>\n",
       "      <td>0.003323</td>\n",
       "      <td>-0.023613</td>\n",
       "      <td>0.023613</td>\n",
       "      <td>0.026751</td>\n",
       "      <td>-0.026751</td>\n",
       "    </tr>\n",
       "    <tr>\n",
       "      <th>CTC</th>\n",
       "      <td>0.258000</td>\n",
       "      <td>0.011370</td>\n",
       "      <td>-0.005450</td>\n",
       "      <td>0.301115</td>\n",
       "      <td>1.000000</td>\n",
       "      <td>0.019912</td>\n",
       "      <td>-0.019912</td>\n",
       "      <td>-0.020365</td>\n",
       "      <td>0.020365</td>\n",
       "      <td>-0.621311</td>\n",
       "      <td>0.621311</td>\n",
       "    </tr>\n",
       "    <tr>\n",
       "      <th>College type_Tier 1</th>\n",
       "      <td>-0.031366</td>\n",
       "      <td>0.045931</td>\n",
       "      <td>0.005666</td>\n",
       "      <td>-0.003323</td>\n",
       "      <td>0.019912</td>\n",
       "      <td>1.000000</td>\n",
       "      <td>-1.000000</td>\n",
       "      <td>0.002135</td>\n",
       "      <td>-0.002135</td>\n",
       "      <td>-0.015158</td>\n",
       "      <td>0.015158</td>\n",
       "    </tr>\n",
       "    <tr>\n",
       "      <th>College type_Tier 3</th>\n",
       "      <td>0.031366</td>\n",
       "      <td>-0.045931</td>\n",
       "      <td>-0.005666</td>\n",
       "      <td>0.003323</td>\n",
       "      <td>-0.019912</td>\n",
       "      <td>-1.000000</td>\n",
       "      <td>1.000000</td>\n",
       "      <td>-0.002135</td>\n",
       "      <td>0.002135</td>\n",
       "      <td>0.015158</td>\n",
       "      <td>-0.015158</td>\n",
       "    </tr>\n",
       "    <tr>\n",
       "      <th>City Type_Metrio City</th>\n",
       "      <td>0.004644</td>\n",
       "      <td>0.051670</td>\n",
       "      <td>-0.018616</td>\n",
       "      <td>-0.023613</td>\n",
       "      <td>-0.020365</td>\n",
       "      <td>0.002135</td>\n",
       "      <td>-0.002135</td>\n",
       "      <td>1.000000</td>\n",
       "      <td>-1.000000</td>\n",
       "      <td>0.048671</td>\n",
       "      <td>-0.048671</td>\n",
       "    </tr>\n",
       "    <tr>\n",
       "      <th>City Type_non-metro cities</th>\n",
       "      <td>-0.004644</td>\n",
       "      <td>-0.051670</td>\n",
       "      <td>0.018616</td>\n",
       "      <td>0.023613</td>\n",
       "      <td>0.020365</td>\n",
       "      <td>-0.002135</td>\n",
       "      <td>0.002135</td>\n",
       "      <td>-1.000000</td>\n",
       "      <td>1.000000</td>\n",
       "      <td>-0.048671</td>\n",
       "      <td>0.048671</td>\n",
       "    </tr>\n",
       "    <tr>\n",
       "      <th>Role_Executive</th>\n",
       "      <td>-0.012321</td>\n",
       "      <td>0.017150</td>\n",
       "      <td>-0.017858</td>\n",
       "      <td>0.026751</td>\n",
       "      <td>-0.621311</td>\n",
       "      <td>-0.015158</td>\n",
       "      <td>0.015158</td>\n",
       "      <td>0.048671</td>\n",
       "      <td>-0.048671</td>\n",
       "      <td>1.000000</td>\n",
       "      <td>-1.000000</td>\n",
       "    </tr>\n",
       "    <tr>\n",
       "      <th>Role_Manager</th>\n",
       "      <td>0.012321</td>\n",
       "      <td>-0.017150</td>\n",
       "      <td>0.017858</td>\n",
       "      <td>-0.026751</td>\n",
       "      <td>0.621311</td>\n",
       "      <td>0.015158</td>\n",
       "      <td>-0.015158</td>\n",
       "      <td>-0.048671</td>\n",
       "      <td>0.048671</td>\n",
       "      <td>-1.000000</td>\n",
       "      <td>1.000000</td>\n",
       "    </tr>\n",
       "  </tbody>\n",
       "</table>\n",
       "</div>"
      ],
      "text/plain": [
       "                            Previous CTC  Previous job change  \\\n",
       "Previous CTC                    1.000000             0.005756   \n",
       "Previous job change             0.005756             1.000000   \n",
       "Graduation Marks               -0.032976             0.019267   \n",
       "EXP (Month)                     0.119163             0.023488   \n",
       "CTC                             0.258000             0.011370   \n",
       "College type_Tier 1            -0.031366             0.045931   \n",
       "College type_Tier 3             0.031366            -0.045931   \n",
       "City Type_Metrio City           0.004644             0.051670   \n",
       "City Type_non-metro cities     -0.004644            -0.051670   \n",
       "Role_Executive                 -0.012321             0.017150   \n",
       "Role_Manager                    0.012321            -0.017150   \n",
       "\n",
       "                            Graduation Marks  EXP (Month)       CTC  \\\n",
       "Previous CTC                       -0.032976     0.119163  0.258000   \n",
       "Previous job change                 0.019267     0.023488  0.011370   \n",
       "Graduation Marks                    1.000000    -0.057061 -0.005450   \n",
       "EXP (Month)                        -0.057061     1.000000  0.301115   \n",
       "CTC                                -0.005450     0.301115  1.000000   \n",
       "College type_Tier 1                 0.005666    -0.003323  0.019912   \n",
       "College type_Tier 3                -0.005666     0.003323 -0.019912   \n",
       "City Type_Metrio City              -0.018616    -0.023613 -0.020365   \n",
       "City Type_non-metro cities          0.018616     0.023613  0.020365   \n",
       "Role_Executive                     -0.017858     0.026751 -0.621311   \n",
       "Role_Manager                        0.017858    -0.026751  0.621311   \n",
       "\n",
       "                            College type_Tier 1  College type_Tier 3  \\\n",
       "Previous CTC                          -0.031366             0.031366   \n",
       "Previous job change                    0.045931            -0.045931   \n",
       "Graduation Marks                       0.005666            -0.005666   \n",
       "EXP (Month)                           -0.003323             0.003323   \n",
       "CTC                                    0.019912            -0.019912   \n",
       "College type_Tier 1                    1.000000            -1.000000   \n",
       "College type_Tier 3                   -1.000000             1.000000   \n",
       "City Type_Metrio City                  0.002135            -0.002135   \n",
       "City Type_non-metro cities            -0.002135             0.002135   \n",
       "Role_Executive                        -0.015158             0.015158   \n",
       "Role_Manager                           0.015158            -0.015158   \n",
       "\n",
       "                            City Type_Metrio City  City Type_non-metro cities  \\\n",
       "Previous CTC                             0.004644                   -0.004644   \n",
       "Previous job change                      0.051670                   -0.051670   \n",
       "Graduation Marks                        -0.018616                    0.018616   \n",
       "EXP (Month)                             -0.023613                    0.023613   \n",
       "CTC                                     -0.020365                    0.020365   \n",
       "College type_Tier 1                      0.002135                   -0.002135   \n",
       "College type_Tier 3                     -0.002135                    0.002135   \n",
       "City Type_Metrio City                    1.000000                   -1.000000   \n",
       "City Type_non-metro cities              -1.000000                    1.000000   \n",
       "Role_Executive                           0.048671                   -0.048671   \n",
       "Role_Manager                            -0.048671                    0.048671   \n",
       "\n",
       "                            Role_Executive  Role_Manager  \n",
       "Previous CTC                     -0.012321      0.012321  \n",
       "Previous job change               0.017150     -0.017150  \n",
       "Graduation Marks                 -0.017858      0.017858  \n",
       "EXP (Month)                       0.026751     -0.026751  \n",
       "CTC                              -0.621311      0.621311  \n",
       "College type_Tier 1              -0.015158      0.015158  \n",
       "College type_Tier 3               0.015158     -0.015158  \n",
       "City Type_Metrio City             0.048671     -0.048671  \n",
       "City Type_non-metro cities       -0.048671      0.048671  \n",
       "Role_Executive                    1.000000     -1.000000  \n",
       "Role_Manager                     -1.000000      1.000000  "
      ]
     },
     "execution_count": 46,
     "metadata": {},
     "output_type": "execute_result"
    }
   ],
   "source": [
    "df1.corr()"
   ]
  },
  {
   "cell_type": "code",
   "execution_count": 47,
   "id": "d4773ba8",
   "metadata": {},
   "outputs": [],
   "source": [
    "correlation_matrix = df1.corr()"
   ]
  },
  {
   "cell_type": "code",
   "execution_count": 48,
   "id": "23121964",
   "metadata": {},
   "outputs": [],
   "source": [
    "correlation_with_target = correlation_matrix['Previous CTC']"
   ]
  },
  {
   "cell_type": "code",
   "execution_count": 49,
   "id": "77254021",
   "metadata": {},
   "outputs": [
    {
     "name": "stdout",
     "output_type": "stream",
     "text": [
      "Previous CTC                  1.000000\n",
      "Previous job change           0.005756\n",
      "Graduation Marks             -0.032976\n",
      "EXP (Month)                   0.119163\n",
      "CTC                           0.258000\n",
      "College type_Tier 1          -0.031366\n",
      "College type_Tier 3           0.031366\n",
      "City Type_Metrio City         0.004644\n",
      "City Type_non-metro cities   -0.004644\n",
      "Role_Executive               -0.012321\n",
      "Role_Manager                  0.012321\n",
      "Name: Previous CTC, dtype: float64\n"
     ]
    }
   ],
   "source": [
    "print(correlation_with_target)"
   ]
  },
  {
   "cell_type": "code",
   "execution_count": 50,
   "id": "44e9e566",
   "metadata": {},
   "outputs": [],
   "source": [
    "import pandas as pd"
   ]
  },
  {
   "cell_type": "code",
   "execution_count": 51,
   "id": "d784fc74",
   "metadata": {},
   "outputs": [],
   "source": [
    "import seaborn as sns"
   ]
  },
  {
   "cell_type": "code",
   "execution_count": 52,
   "id": "d6b29808",
   "metadata": {},
   "outputs": [],
   "source": [
    "import matplotlib.pyplot as plt"
   ]
  },
  {
   "cell_type": "code",
   "execution_count": 53,
   "id": "043eca38",
   "metadata": {},
   "outputs": [
    {
     "data": {
      "text/plain": [
       "<seaborn.axisgrid.JointGrid at 0x20ca2e2d690>"
      ]
     },
     "execution_count": 53,
     "metadata": {},
     "output_type": "execute_result"
    },
    {
     "data": {
      "image/png": "[encoded data removed]",
      "text/plain": [
       "<Figure size 600x600 with 3 Axes>"
      ]
     },
     "metadata": {},
     "output_type": "display_data"
    }
   ],
   "source": [
    "sns.jointplot(x=\"EXP (Month)\",y=\"Previous CTC\", data=df1)"
   ]
  },
  {
   "cell_type": "code",
   "execution_count": 54,
   "id": "ebb1c000",
   "metadata": {},
   "outputs": [
    {
     "data": {
      "text/plain": [
       "<seaborn.axisgrid.JointGrid at 0x20ca68a9f00>"
      ]
     },
     "execution_count": 54,
     "metadata": {},
     "output_type": "execute_result"
    },
    {
     "data": {
      "image/png": "[encoded data removed]",
      "text/plain": [
       "<Figure size 600x600 with 3 Axes>"
      ]
     },
     "metadata": {},
     "output_type": "display_data"
    }
   ],
   "source": [
    "sns.jointplot(x='Previous CTC',y='CTC', data=df1)"
   ]
  },
  {
   "cell_type": "code",
   "execution_count": 55,
   "id": "eb4381ea",
   "metadata": {},
   "outputs": [
    {
     "data": {
      "text/plain": [
       "71506.92"
      ]
     },
     "execution_count": 55,
     "metadata": {},
     "output_type": "execute_result"
    }
   ],
   "source": [
    "np.percentile(df1['Previous CTC'],[99])[0]"
   ]
  },
  {
   "cell_type": "code",
   "execution_count": 56,
   "id": "eff2919e",
   "metadata": {},
   "outputs": [
    {
     "data": {
      "text/html": [
       "<div>\n",
       "<style scoped>\n",
       "    .dataframe tbody tr th:only-of-type {\n",
       "        vertical-align: middle;\n",
       "    }\n",
       "\n",
       "    .dataframe tbody tr th {\n",
       "        vertical-align: top;\n",
       "    }\n",
       "\n",
       "    .dataframe thead th {\n",
       "        text-align: right;\n",
       "    }\n",
       "</style>\n",
       "<table border=\"1\" class=\"dataframe\">\n",
       "  <thead>\n",
       "    <tr style=\"text-align: right;\">\n",
       "      <th></th>\n",
       "      <th>Previous CTC</th>\n",
       "      <th>Previous job change</th>\n",
       "      <th>Graduation Marks</th>\n",
       "      <th>EXP (Month)</th>\n",
       "      <th>CTC</th>\n",
       "      <th>College type_Tier 1</th>\n",
       "      <th>College type_Tier 3</th>\n",
       "      <th>City Type_Metrio City</th>\n",
       "      <th>City Type_non-metro cities</th>\n",
       "      <th>Role_Executive</th>\n",
       "      <th>Role_Manager</th>\n",
       "    </tr>\n",
       "  </thead>\n",
       "  <tbody>\n",
       "    <tr>\n",
       "      <th>116</th>\n",
       "      <td>77911.0</td>\n",
       "      <td>1</td>\n",
       "      <td>50</td>\n",
       "      <td>58</td>\n",
       "      <td>87831.62</td>\n",
       "      <td>0</td>\n",
       "      <td>1</td>\n",
       "      <td>1</td>\n",
       "      <td>0</td>\n",
       "      <td>1</td>\n",
       "      <td>0</td>\n",
       "    </tr>\n",
       "    <tr>\n",
       "      <th>292</th>\n",
       "      <td>74198.0</td>\n",
       "      <td>1</td>\n",
       "      <td>57</td>\n",
       "      <td>25</td>\n",
       "      <td>99644.51</td>\n",
       "      <td>0</td>\n",
       "      <td>1</td>\n",
       "      <td>0</td>\n",
       "      <td>1</td>\n",
       "      <td>0</td>\n",
       "      <td>1</td>\n",
       "    </tr>\n",
       "    <tr>\n",
       "      <th>543</th>\n",
       "      <td>73856.0</td>\n",
       "      <td>1</td>\n",
       "      <td>75</td>\n",
       "      <td>54</td>\n",
       "      <td>121362.73</td>\n",
       "      <td>1</td>\n",
       "      <td>0</td>\n",
       "      <td>1</td>\n",
       "      <td>0</td>\n",
       "      <td>0</td>\n",
       "      <td>1</td>\n",
       "    </tr>\n",
       "    <tr>\n",
       "      <th>572</th>\n",
       "      <td>71543.0</td>\n",
       "      <td>4</td>\n",
       "      <td>82</td>\n",
       "      <td>30</td>\n",
       "      <td>61366.78</td>\n",
       "      <td>1</td>\n",
       "      <td>0</td>\n",
       "      <td>1</td>\n",
       "      <td>0</td>\n",
       "      <td>1</td>\n",
       "      <td>0</td>\n",
       "    </tr>\n",
       "    <tr>\n",
       "      <th>701</th>\n",
       "      <td>71549.0</td>\n",
       "      <td>4</td>\n",
       "      <td>47</td>\n",
       "      <td>50</td>\n",
       "      <td>83116.21</td>\n",
       "      <td>0</td>\n",
       "      <td>1</td>\n",
       "      <td>0</td>\n",
       "      <td>1</td>\n",
       "      <td>1</td>\n",
       "      <td>0</td>\n",
       "    </tr>\n",
       "    <tr>\n",
       "      <th>847</th>\n",
       "      <td>71756.0</td>\n",
       "      <td>4</td>\n",
       "      <td>67</td>\n",
       "      <td>23</td>\n",
       "      <td>72141.43</td>\n",
       "      <td>1</td>\n",
       "      <td>0</td>\n",
       "      <td>1</td>\n",
       "      <td>0</td>\n",
       "      <td>1</td>\n",
       "      <td>0</td>\n",
       "    </tr>\n",
       "    <tr>\n",
       "      <th>860</th>\n",
       "      <td>75785.0</td>\n",
       "      <td>4</td>\n",
       "      <td>63</td>\n",
       "      <td>37</td>\n",
       "      <td>110338.25</td>\n",
       "      <td>1</td>\n",
       "      <td>0</td>\n",
       "      <td>1</td>\n",
       "      <td>0</td>\n",
       "      <td>0</td>\n",
       "      <td>1</td>\n",
       "    </tr>\n",
       "    <tr>\n",
       "      <th>941</th>\n",
       "      <td>72319.0</td>\n",
       "      <td>1</td>\n",
       "      <td>51</td>\n",
       "      <td>50</td>\n",
       "      <td>63538.43</td>\n",
       "      <td>0</td>\n",
       "      <td>1</td>\n",
       "      <td>1</td>\n",
       "      <td>0</td>\n",
       "      <td>1</td>\n",
       "      <td>0</td>\n",
       "    </tr>\n",
       "    <tr>\n",
       "      <th>1024</th>\n",
       "      <td>72661.0</td>\n",
       "      <td>3</td>\n",
       "      <td>74</td>\n",
       "      <td>47</td>\n",
       "      <td>70238.70</td>\n",
       "      <td>1</td>\n",
       "      <td>0</td>\n",
       "      <td>1</td>\n",
       "      <td>0</td>\n",
       "      <td>1</td>\n",
       "      <td>0</td>\n",
       "    </tr>\n",
       "    <tr>\n",
       "      <th>1047</th>\n",
       "      <td>73214.0</td>\n",
       "      <td>4</td>\n",
       "      <td>57</td>\n",
       "      <td>22</td>\n",
       "      <td>100119.53</td>\n",
       "      <td>1</td>\n",
       "      <td>0</td>\n",
       "      <td>0</td>\n",
       "      <td>1</td>\n",
       "      <td>0</td>\n",
       "      <td>1</td>\n",
       "    </tr>\n",
       "    <tr>\n",
       "      <th>1067</th>\n",
       "      <td>71760.0</td>\n",
       "      <td>4</td>\n",
       "      <td>40</td>\n",
       "      <td>39</td>\n",
       "      <td>71187.52</td>\n",
       "      <td>0</td>\n",
       "      <td>1</td>\n",
       "      <td>0</td>\n",
       "      <td>1</td>\n",
       "      <td>1</td>\n",
       "      <td>0</td>\n",
       "    </tr>\n",
       "    <tr>\n",
       "      <th>1088</th>\n",
       "      <td>76815.0</td>\n",
       "      <td>4</td>\n",
       "      <td>75</td>\n",
       "      <td>52</td>\n",
       "      <td>82684.17</td>\n",
       "      <td>0</td>\n",
       "      <td>1</td>\n",
       "      <td>1</td>\n",
       "      <td>0</td>\n",
       "      <td>1</td>\n",
       "      <td>0</td>\n",
       "    </tr>\n",
       "    <tr>\n",
       "      <th>1131</th>\n",
       "      <td>74256.0</td>\n",
       "      <td>2</td>\n",
       "      <td>40</td>\n",
       "      <td>27</td>\n",
       "      <td>83023.18</td>\n",
       "      <td>0</td>\n",
       "      <td>1</td>\n",
       "      <td>1</td>\n",
       "      <td>0</td>\n",
       "      <td>1</td>\n",
       "      <td>0</td>\n",
       "    </tr>\n",
       "    <tr>\n",
       "      <th>1317</th>\n",
       "      <td>76070.0</td>\n",
       "      <td>2</td>\n",
       "      <td>54</td>\n",
       "      <td>18</td>\n",
       "      <td>58309.56</td>\n",
       "      <td>1</td>\n",
       "      <td>0</td>\n",
       "      <td>0</td>\n",
       "      <td>1</td>\n",
       "      <td>1</td>\n",
       "      <td>0</td>\n",
       "    </tr>\n",
       "    <tr>\n",
       "      <th>1332</th>\n",
       "      <td>72649.0</td>\n",
       "      <td>3</td>\n",
       "      <td>69</td>\n",
       "      <td>52</td>\n",
       "      <td>78861.46</td>\n",
       "      <td>0</td>\n",
       "      <td>1</td>\n",
       "      <td>1</td>\n",
       "      <td>0</td>\n",
       "      <td>1</td>\n",
       "      <td>0</td>\n",
       "    </tr>\n",
       "    <tr>\n",
       "      <th>1454</th>\n",
       "      <td>77911.0</td>\n",
       "      <td>1</td>\n",
       "      <td>50</td>\n",
       "      <td>58</td>\n",
       "      <td>87831.62</td>\n",
       "      <td>1</td>\n",
       "      <td>0</td>\n",
       "      <td>1</td>\n",
       "      <td>0</td>\n",
       "      <td>1</td>\n",
       "      <td>0</td>\n",
       "    </tr>\n",
       "  </tbody>\n",
       "</table>\n",
       "</div>"
      ],
      "text/plain": [
       "      Previous CTC  Previous job change  Graduation Marks  EXP (Month)  \\\n",
       "116        77911.0                    1                50           58   \n",
       "292        74198.0                    1                57           25   \n",
       "543        73856.0                    1                75           54   \n",
       "572        71543.0                    4                82           30   \n",
       "701        71549.0                    4                47           50   \n",
       "847        71756.0                    4                67           23   \n",
       "860        75785.0                    4                63           37   \n",
       "941        72319.0                    1                51           50   \n",
       "1024       72661.0                    3                74           47   \n",
       "1047       73214.0                    4                57           22   \n",
       "1067       71760.0                    4                40           39   \n",
       "1088       76815.0                    4                75           52   \n",
       "1131       74256.0                    2                40           27   \n",
       "1317       76070.0                    2                54           18   \n",
       "1332       72649.0                    3                69           52   \n",
       "1454       77911.0                    1                50           58   \n",
       "\n",
       "            CTC  College type_Tier 1  College type_Tier 3  \\\n",
       "116    87831.62                    0                    1   \n",
       "292    99644.51                    0                    1   \n",
       "543   121362.73                    1                    0   \n",
       "572    61366.78                    1                    0   \n",
       "701    83116.21                    0                    1   \n",
       "847    72141.43                    1                    0   \n",
       "860   110338.25                    1                    0   \n",
       "941    63538.43                    0                    1   \n",
       "1024   70238.70                    1                    0   \n",
       "1047  100119.53                    1                    0   \n",
       "1067   71187.52                    0                    1   \n",
       "1088   82684.17                    0                    1   \n",
       "1131   83023.18                    0                    1   \n",
       "1317   58309.56                    1                    0   \n",
       "1332   78861.46                    0                    1   \n",
       "1454   87831.62                    1                    0   \n",
       "\n",
       "      City Type_Metrio City  City Type_non-metro cities  Role_Executive  \\\n",
       "116                       1                           0               1   \n",
       "292                       0                           1               0   \n",
       "543                       1                           0               0   \n",
       "572                       1                           0               1   \n",
       "701                       0                           1               1   \n",
       "847                       1                           0               1   \n",
       "860                       1                           0               0   \n",
       "941                       1                           0               1   \n",
       "1024                      1                           0               1   \n",
       "1047                      0                           1               0   \n",
       "1067                      0                           1               1   \n",
       "1088                      1                           0               1   \n",
       "1131                      1                           0               1   \n",
       "1317                      0                           1               1   \n",
       "1332                      1                           0               1   \n",
       "1454                      1                           0               1   \n",
       "\n",
       "      Role_Manager  \n",
       "116              0  \n",
       "292              1  \n",
       "543              1  \n",
       "572              0  \n",
       "701              0  \n",
       "847              0  \n",
       "860              1  \n",
       "941              0  \n",
       "1024             0  \n",
       "1047             1  \n",
       "1067             0  \n",
       "1088             0  \n",
       "1131             0  \n",
       "1317             0  \n",
       "1332             0  \n",
       "1454             0  "
      ]
     },
     "execution_count": 56,
     "metadata": {},
     "output_type": "execute_result"
    }
   ],
   "source": [
    "uv = np.percentile(df1['Previous CTC'],[99])[0]\n",
    "df1[(df1['Previous CTC']>uv)]"
   ]
  },
  {
   "cell_type": "code",
   "execution_count": 58,
   "id": "5f9f0ba8",
   "metadata": {},
   "outputs": [
    {
     "name": "stderr",
     "output_type": "stream",
     "text": [
      "C:\\Users\\ABHI\\AppData\\Local\\Temp\\ipykernel_7280\\390683938.py:1: SettingWithCopyWarning: \n",
      "A value is trying to be set on a copy of a slice from a DataFrame\n",
      "\n",
      "See the caveats in the documentation: https://pandas.pydata.org/pandas-docs/stable/user_guide/indexing.html#returning-a-view-versus-a-copy\n",
      "  df1['Previous CTC'][(df1['Previous CTC']> 3*uv)] = 3*uv\n"
     ]
    }
   ],
   "source": [
    "df1['Previous CTC'][(df1['Previous CTC']> 3*uv)] = 3*uv"
   ]
  },
  {
   "cell_type": "code",
   "execution_count": 59,
   "id": "1e8c9496",
   "metadata": {},
   "outputs": [
    {
     "data": {
      "text/html": [
       "<div>\n",
       "<style scoped>\n",
       "    .dataframe tbody tr th:only-of-type {\n",
       "        vertical-align: middle;\n",
       "    }\n",
       "\n",
       "    .dataframe tbody tr th {\n",
       "        vertical-align: top;\n",
       "    }\n",
       "\n",
       "    .dataframe thead th {\n",
       "        text-align: right;\n",
       "    }\n",
       "</style>\n",
       "<table border=\"1\" class=\"dataframe\">\n",
       "  <thead>\n",
       "    <tr style=\"text-align: right;\">\n",
       "      <th></th>\n",
       "      <th>Previous CTC</th>\n",
       "      <th>Previous job change</th>\n",
       "      <th>Graduation Marks</th>\n",
       "      <th>EXP (Month)</th>\n",
       "      <th>CTC</th>\n",
       "      <th>College type_Tier 1</th>\n",
       "      <th>College type_Tier 3</th>\n",
       "      <th>City Type_Metrio City</th>\n",
       "      <th>City Type_non-metro cities</th>\n",
       "      <th>Role_Executive</th>\n",
       "      <th>Role_Manager</th>\n",
       "    </tr>\n",
       "  </thead>\n",
       "  <tbody>\n",
       "    <tr>\n",
       "      <th>116</th>\n",
       "      <td>77911.0</td>\n",
       "      <td>1</td>\n",
       "      <td>50</td>\n",
       "      <td>58</td>\n",
       "      <td>87831.62</td>\n",
       "      <td>0</td>\n",
       "      <td>1</td>\n",
       "      <td>1</td>\n",
       "      <td>0</td>\n",
       "      <td>1</td>\n",
       "      <td>0</td>\n",
       "    </tr>\n",
       "    <tr>\n",
       "      <th>292</th>\n",
       "      <td>74198.0</td>\n",
       "      <td>1</td>\n",
       "      <td>57</td>\n",
       "      <td>25</td>\n",
       "      <td>99644.51</td>\n",
       "      <td>0</td>\n",
       "      <td>1</td>\n",
       "      <td>0</td>\n",
       "      <td>1</td>\n",
       "      <td>0</td>\n",
       "      <td>1</td>\n",
       "    </tr>\n",
       "    <tr>\n",
       "      <th>543</th>\n",
       "      <td>73856.0</td>\n",
       "      <td>1</td>\n",
       "      <td>75</td>\n",
       "      <td>54</td>\n",
       "      <td>121362.73</td>\n",
       "      <td>1</td>\n",
       "      <td>0</td>\n",
       "      <td>1</td>\n",
       "      <td>0</td>\n",
       "      <td>0</td>\n",
       "      <td>1</td>\n",
       "    </tr>\n",
       "    <tr>\n",
       "      <th>572</th>\n",
       "      <td>71543.0</td>\n",
       "      <td>4</td>\n",
       "      <td>82</td>\n",
       "      <td>30</td>\n",
       "      <td>61366.78</td>\n",
       "      <td>1</td>\n",
       "      <td>0</td>\n",
       "      <td>1</td>\n",
       "      <td>0</td>\n",
       "      <td>1</td>\n",
       "      <td>0</td>\n",
       "    </tr>\n",
       "    <tr>\n",
       "      <th>701</th>\n",
       "      <td>71549.0</td>\n",
       "      <td>4</td>\n",
       "      <td>47</td>\n",
       "      <td>50</td>\n",
       "      <td>83116.21</td>\n",
       "      <td>0</td>\n",
       "      <td>1</td>\n",
       "      <td>0</td>\n",
       "      <td>1</td>\n",
       "      <td>1</td>\n",
       "      <td>0</td>\n",
       "    </tr>\n",
       "    <tr>\n",
       "      <th>847</th>\n",
       "      <td>71756.0</td>\n",
       "      <td>4</td>\n",
       "      <td>67</td>\n",
       "      <td>23</td>\n",
       "      <td>72141.43</td>\n",
       "      <td>1</td>\n",
       "      <td>0</td>\n",
       "      <td>1</td>\n",
       "      <td>0</td>\n",
       "      <td>1</td>\n",
       "      <td>0</td>\n",
       "    </tr>\n",
       "    <tr>\n",
       "      <th>860</th>\n",
       "      <td>75785.0</td>\n",
       "      <td>4</td>\n",
       "      <td>63</td>\n",
       "      <td>37</td>\n",
       "      <td>110338.25</td>\n",
       "      <td>1</td>\n",
       "      <td>0</td>\n",
       "      <td>1</td>\n",
       "      <td>0</td>\n",
       "      <td>0</td>\n",
       "      <td>1</td>\n",
       "    </tr>\n",
       "    <tr>\n",
       "      <th>941</th>\n",
       "      <td>72319.0</td>\n",
       "      <td>1</td>\n",
       "      <td>51</td>\n",
       "      <td>50</td>\n",
       "      <td>63538.43</td>\n",
       "      <td>0</td>\n",
       "      <td>1</td>\n",
       "      <td>1</td>\n",
       "      <td>0</td>\n",
       "      <td>1</td>\n",
       "      <td>0</td>\n",
       "    </tr>\n",
       "    <tr>\n",
       "      <th>1024</th>\n",
       "      <td>72661.0</td>\n",
       "      <td>3</td>\n",
       "      <td>74</td>\n",
       "      <td>47</td>\n",
       "      <td>70238.70</td>\n",
       "      <td>1</td>\n",
       "      <td>0</td>\n",
       "      <td>1</td>\n",
       "      <td>0</td>\n",
       "      <td>1</td>\n",
       "      <td>0</td>\n",
       "    </tr>\n",
       "    <tr>\n",
       "      <th>1047</th>\n",
       "      <td>73214.0</td>\n",
       "      <td>4</td>\n",
       "      <td>57</td>\n",
       "      <td>22</td>\n",
       "      <td>100119.53</td>\n",
       "      <td>1</td>\n",
       "      <td>0</td>\n",
       "      <td>0</td>\n",
       "      <td>1</td>\n",
       "      <td>0</td>\n",
       "      <td>1</td>\n",
       "    </tr>\n",
       "    <tr>\n",
       "      <th>1067</th>\n",
       "      <td>71760.0</td>\n",
       "      <td>4</td>\n",
       "      <td>40</td>\n",
       "      <td>39</td>\n",
       "      <td>71187.52</td>\n",
       "      <td>0</td>\n",
       "      <td>1</td>\n",
       "      <td>0</td>\n",
       "      <td>1</td>\n",
       "      <td>1</td>\n",
       "      <td>0</td>\n",
       "    </tr>\n",
       "    <tr>\n",
       "      <th>1088</th>\n",
       "      <td>76815.0</td>\n",
       "      <td>4</td>\n",
       "      <td>75</td>\n",
       "      <td>52</td>\n",
       "      <td>82684.17</td>\n",
       "      <td>0</td>\n",
       "      <td>1</td>\n",
       "      <td>1</td>\n",
       "      <td>0</td>\n",
       "      <td>1</td>\n",
       "      <td>0</td>\n",
       "    </tr>\n",
       "    <tr>\n",
       "      <th>1131</th>\n",
       "      <td>74256.0</td>\n",
       "      <td>2</td>\n",
       "      <td>40</td>\n",
       "      <td>27</td>\n",
       "      <td>83023.18</td>\n",
       "      <td>0</td>\n",
       "      <td>1</td>\n",
       "      <td>1</td>\n",
       "      <td>0</td>\n",
       "      <td>1</td>\n",
       "      <td>0</td>\n",
       "    </tr>\n",
       "    <tr>\n",
       "      <th>1317</th>\n",
       "      <td>76070.0</td>\n",
       "      <td>2</td>\n",
       "      <td>54</td>\n",
       "      <td>18</td>\n",
       "      <td>58309.56</td>\n",
       "      <td>1</td>\n",
       "      <td>0</td>\n",
       "      <td>0</td>\n",
       "      <td>1</td>\n",
       "      <td>1</td>\n",
       "      <td>0</td>\n",
       "    </tr>\n",
       "    <tr>\n",
       "      <th>1332</th>\n",
       "      <td>72649.0</td>\n",
       "      <td>3</td>\n",
       "      <td>69</td>\n",
       "      <td>52</td>\n",
       "      <td>78861.46</td>\n",
       "      <td>0</td>\n",
       "      <td>1</td>\n",
       "      <td>1</td>\n",
       "      <td>0</td>\n",
       "      <td>1</td>\n",
       "      <td>0</td>\n",
       "    </tr>\n",
       "    <tr>\n",
       "      <th>1454</th>\n",
       "      <td>77911.0</td>\n",
       "      <td>1</td>\n",
       "      <td>50</td>\n",
       "      <td>58</td>\n",
       "      <td>87831.62</td>\n",
       "      <td>1</td>\n",
       "      <td>0</td>\n",
       "      <td>1</td>\n",
       "      <td>0</td>\n",
       "      <td>1</td>\n",
       "      <td>0</td>\n",
       "    </tr>\n",
       "  </tbody>\n",
       "</table>\n",
       "</div>"
      ],
      "text/plain": [
       "      Previous CTC  Previous job change  Graduation Marks  EXP (Month)  \\\n",
       "116        77911.0                    1                50           58   \n",
       "292        74198.0                    1                57           25   \n",
       "543        73856.0                    1                75           54   \n",
       "572        71543.0                    4                82           30   \n",
       "701        71549.0                    4                47           50   \n",
       "847        71756.0                    4                67           23   \n",
       "860        75785.0                    4                63           37   \n",
       "941        72319.0                    1                51           50   \n",
       "1024       72661.0                    3                74           47   \n",
       "1047       73214.0                    4                57           22   \n",
       "1067       71760.0                    4                40           39   \n",
       "1088       76815.0                    4                75           52   \n",
       "1131       74256.0                    2                40           27   \n",
       "1317       76070.0                    2                54           18   \n",
       "1332       72649.0                    3                69           52   \n",
       "1454       77911.0                    1                50           58   \n",
       "\n",
       "            CTC  College type_Tier 1  College type_Tier 3  \\\n",
       "116    87831.62                    0                    1   \n",
       "292    99644.51                    0                    1   \n",
       "543   121362.73                    1                    0   \n",
       "572    61366.78                    1                    0   \n",
       "701    83116.21                    0                    1   \n",
       "847    72141.43                    1                    0   \n",
       "860   110338.25                    1                    0   \n",
       "941    63538.43                    0                    1   \n",
       "1024   70238.70                    1                    0   \n",
       "1047  100119.53                    1                    0   \n",
       "1067   71187.52                    0                    1   \n",
       "1088   82684.17                    0                    1   \n",
       "1131   83023.18                    0                    1   \n",
       "1317   58309.56                    1                    0   \n",
       "1332   78861.46                    0                    1   \n",
       "1454   87831.62                    1                    0   \n",
       "\n",
       "      City Type_Metrio City  City Type_non-metro cities  Role_Executive  \\\n",
       "116                       1                           0               1   \n",
       "292                       0                           1               0   \n",
       "543                       1                           0               0   \n",
       "572                       1                           0               1   \n",
       "701                       0                           1               1   \n",
       "847                       1                           0               1   \n",
       "860                       1                           0               0   \n",
       "941                       1                           0               1   \n",
       "1024                      1                           0               1   \n",
       "1047                      0                           1               0   \n",
       "1067                      0                           1               1   \n",
       "1088                      1                           0               1   \n",
       "1131                      1                           0               1   \n",
       "1317                      0                           1               1   \n",
       "1332                      1                           0               1   \n",
       "1454                      1                           0               1   \n",
       "\n",
       "      Role_Manager  \n",
       "116              0  \n",
       "292              1  \n",
       "543              1  \n",
       "572              0  \n",
       "701              0  \n",
       "847              0  \n",
       "860              1  \n",
       "941              0  \n",
       "1024             0  \n",
       "1047             1  \n",
       "1067             0  \n",
       "1088             0  \n",
       "1131             0  \n",
       "1317             0  \n",
       "1332             0  \n",
       "1454             0  "
      ]
     },
     "execution_count": 59,
     "metadata": {},
     "output_type": "execute_result"
    }
   ],
   "source": [
    "df1[(df1['Previous CTC']>uv)]"
   ]
  },
  {
   "cell_type": "code",
   "execution_count": 60,
   "id": "13134d4e",
   "metadata": {},
   "outputs": [],
   "source": [
    "import scipy.stats as stats"
   ]
  },
  {
   "cell_type": "code",
   "execution_count": 61,
   "id": "ccbcceed",
   "metadata": {},
   "outputs": [],
   "source": [
    "corr_coeff, p_value = stats.pearsonr(df1['Previous CTC'], df1['CTC'])"
   ]
  },
  {
   "cell_type": "code",
   "execution_count": 62,
   "id": "a1b424d3",
   "metadata": {},
   "outputs": [
    {
     "name": "stdout",
     "output_type": "stream",
     "text": [
      "Correlation Coefficient: 0.25799981816000855\n",
      "p-value: 1.4071300967871934e-25\n"
     ]
    }
   ],
   "source": [
    "print(\"Correlation Coefficient:\", corr_coeff)\n",
    "print(\"p-value:\", p_value)"
   ]
  },
  {
   "cell_type": "code",
   "execution_count": 65,
   "id": "4863caf4",
   "metadata": {},
   "outputs": [
    {
     "ename": "IndentationError",
     "evalue": "expected an indented block after 'if' statement on line 2 (2938630359.py, line 3)",
     "output_type": "error",
     "traceback": [
      "\u001b[1;36m  Cell \u001b[1;32mIn[65], line 3\u001b[1;36m\u001b[0m\n\u001b[1;33m    print(\"The correlation is statistically significant.\")\u001b[0m\n\u001b[1;37m    ^\u001b[0m\n\u001b[1;31mIndentationError\u001b[0m\u001b[1;31m:\u001b[0m expected an indented block after 'if' statement on line 2\n"
     ]
    }
   ],
   "source": [
    "alpha = 0.05 \n",
    "if p_value < alpha:\n",
    "print(\"The correlation is statistically significant.\")\n",
    "else:\n",
    "print(\"The correlation is not statistically significant.\")"
   ]
  },
  {
   "cell_type": "code",
   "execution_count": 66,
   "id": "72eb437c",
   "metadata": {},
   "outputs": [],
   "source": [
    "from sklearn.model_selection import train_test_split\n",
    "from sklearn.linear_model import LinearRegression"
   ]
  },
  {
   "cell_type": "code",
   "execution_count": 67,
   "id": "7253a267",
   "metadata": {},
   "outputs": [],
   "source": [
    "x_multi = df1.drop(\"Previous CTC\",axis=1)"
   ]
  },
  {
   "cell_type": "code",
   "execution_count": 68,
   "id": "787cb261",
   "metadata": {},
   "outputs": [
    {
     "data": {
      "text/html": [
       "<div>\n",
       "<style scoped>\n",
       "    .dataframe tbody tr th:only-of-type {\n",
       "        vertical-align: middle;\n",
       "    }\n",
       "\n",
       "    .dataframe tbody tr th {\n",
       "        vertical-align: top;\n",
       "    }\n",
       "\n",
       "    .dataframe thead th {\n",
       "        text-align: right;\n",
       "    }\n",
       "</style>\n",
       "<table border=\"1\" class=\"dataframe\">\n",
       "  <thead>\n",
       "    <tr style=\"text-align: right;\">\n",
       "      <th></th>\n",
       "      <th>Previous job change</th>\n",
       "      <th>Graduation Marks</th>\n",
       "      <th>EXP (Month)</th>\n",
       "      <th>CTC</th>\n",
       "      <th>College type_Tier 1</th>\n",
       "      <th>College type_Tier 3</th>\n",
       "      <th>City Type_Metrio City</th>\n",
       "      <th>City Type_non-metro cities</th>\n",
       "      <th>Role_Executive</th>\n",
       "      <th>Role_Manager</th>\n",
       "    </tr>\n",
       "  </thead>\n",
       "  <tbody>\n",
       "    <tr>\n",
       "      <th>0</th>\n",
       "      <td>3</td>\n",
       "      <td>66</td>\n",
       "      <td>19</td>\n",
       "      <td>71406.58</td>\n",
       "      <td>0</td>\n",
       "      <td>1</td>\n",
       "      <td>0</td>\n",
       "      <td>1</td>\n",
       "      <td>0</td>\n",
       "      <td>1</td>\n",
       "    </tr>\n",
       "    <tr>\n",
       "      <th>1</th>\n",
       "      <td>1</td>\n",
       "      <td>84</td>\n",
       "      <td>18</td>\n",
       "      <td>68005.87</td>\n",
       "      <td>0</td>\n",
       "      <td>1</td>\n",
       "      <td>0</td>\n",
       "      <td>1</td>\n",
       "      <td>1</td>\n",
       "      <td>0</td>\n",
       "    </tr>\n",
       "    <tr>\n",
       "      <th>2</th>\n",
       "      <td>2</td>\n",
       "      <td>52</td>\n",
       "      <td>28</td>\n",
       "      <td>76764.02</td>\n",
       "      <td>0</td>\n",
       "      <td>1</td>\n",
       "      <td>0</td>\n",
       "      <td>1</td>\n",
       "      <td>1</td>\n",
       "      <td>0</td>\n",
       "    </tr>\n",
       "    <tr>\n",
       "      <th>3</th>\n",
       "      <td>2</td>\n",
       "      <td>81</td>\n",
       "      <td>33</td>\n",
       "      <td>82092.39</td>\n",
       "      <td>0</td>\n",
       "      <td>1</td>\n",
       "      <td>0</td>\n",
       "      <td>1</td>\n",
       "      <td>1</td>\n",
       "      <td>0</td>\n",
       "    </tr>\n",
       "    <tr>\n",
       "      <th>4</th>\n",
       "      <td>4</td>\n",
       "      <td>74</td>\n",
       "      <td>32</td>\n",
       "      <td>73878.10</td>\n",
       "      <td>1</td>\n",
       "      <td>0</td>\n",
       "      <td>0</td>\n",
       "      <td>1</td>\n",
       "      <td>1</td>\n",
       "      <td>0</td>\n",
       "    </tr>\n",
       "  </tbody>\n",
       "</table>\n",
       "</div>"
      ],
      "text/plain": [
       "   Previous job change  Graduation Marks  EXP (Month)       CTC  \\\n",
       "0                    3                66           19  71406.58   \n",
       "1                    1                84           18  68005.87   \n",
       "2                    2                52           28  76764.02   \n",
       "3                    2                81           33  82092.39   \n",
       "4                    4                74           32  73878.10   \n",
       "\n",
       "   College type_Tier 1  College type_Tier 3  City Type_Metrio City  \\\n",
       "0                    0                    1                      0   \n",
       "1                    0                    1                      0   \n",
       "2                    0                    1                      0   \n",
       "3                    0                    1                      0   \n",
       "4                    1                    0                      0   \n",
       "\n",
       "   City Type_non-metro cities  Role_Executive  Role_Manager  \n",
       "0                           1               0             1  \n",
       "1                           1               1             0  \n",
       "2                           1               1             0  \n",
       "3                           1               1             0  \n",
       "4                           1               1             0  "
      ]
     },
     "execution_count": 68,
     "metadata": {},
     "output_type": "execute_result"
    }
   ],
   "source": [
    "x_multi.head()"
   ]
  },
  {
   "cell_type": "code",
   "execution_count": 69,
   "id": "eacda346",
   "metadata": {},
   "outputs": [],
   "source": [
    "y_multi = df1['CTC']"
   ]
  },
  {
   "cell_type": "code",
   "execution_count": 70,
   "id": "48dbb9af",
   "metadata": {},
   "outputs": [
    {
     "data": {
      "text/plain": [
       "0    71406.58\n",
       "1    68005.87\n",
       "2    76764.02\n",
       "3    82092.39\n",
       "4    73878.10\n",
       "Name: CTC, dtype: float64"
      ]
     },
     "execution_count": 70,
     "metadata": {},
     "output_type": "execute_result"
    }
   ],
   "source": [
    "y_multi.head()"
   ]
  },
  {
   "cell_type": "code",
   "execution_count": 71,
   "id": "ea3d7040",
   "metadata": {},
   "outputs": [],
   "source": [
    "x_train, x_test, y_train, y_test = train_test_split(x_multi, y_multi, test_size=0.2, random_state=42)\n"
   ]
  },
  {
   "cell_type": "code",
   "execution_count": 72,
   "id": "691465b5",
   "metadata": {},
   "outputs": [
    {
     "data": {
      "text/plain": [
       "(318,)"
      ]
     },
     "execution_count": 72,
     "metadata": {},
     "output_type": "execute_result"
    }
   ],
   "source": [
    "y_test.shape"
   ]
  },
  {
   "cell_type": "code",
   "execution_count": 73,
   "id": "9e210f79",
   "metadata": {},
   "outputs": [],
   "source": [
    "from sklearn.model_selection import train_test_split"
   ]
  },
  {
   "cell_type": "code",
   "execution_count": 74,
   "id": "1e985aaf",
   "metadata": {},
   "outputs": [],
   "source": [
    "from sklearn.linear_model import LinearRegression"
   ]
  },
  {
   "cell_type": "code",
   "execution_count": 75,
   "id": "9c4bff22",
   "metadata": {},
   "outputs": [],
   "source": [
    "from sklearn.tree import DecisionTreeRegressor"
   ]
  },
  {
   "cell_type": "code",
   "execution_count": 76,
   "id": "b6336082",
   "metadata": {},
   "outputs": [],
   "source": [
    "from sklearn.ensemble import RandomForestRegressor"
   ]
  },
  {
   "cell_type": "code",
   "execution_count": 77,
   "id": "bb84186c",
   "metadata": {},
   "outputs": [],
   "source": [
    "from sklearn.metrics import mean_squared_error"
   ]
  },
  {
   "cell_type": "code",
   "execution_count": 78,
   "id": "ff171a49",
   "metadata": {},
   "outputs": [],
   "source": [
    "x_train, x_test, y_train, y_test = train_test_split(x_multi, y_multi, test_size=0.2, random_state=42)"
   ]
  },
  {
   "cell_type": "code",
   "execution_count": 79,
   "id": "1aa05217",
   "metadata": {},
   "outputs": [],
   "source": [
    "models = [\n",
    "LinearRegression(),\n",
    "DecisionTreeRegressor(),\n",
    "RandomForestRegressor()\n",
    "]"
   ]
  },
  {
   "cell_type": "code",
   "execution_count": 81,
   "id": "93559c0a",
   "metadata": {},
   "outputs": [],
   "source": [
    "for model in models:\n",
    "    model.fit(x_train, y_train)\n",
    "    y_pred = model.predict(x_test)\n",
    "    mse = mean_squared_error(y_test, y_pred)"
   ]
  },
  {
   "cell_type": "code",
   "execution_count": 83,
   "id": "c70276c1",
   "metadata": {},
   "outputs": [
    {
     "name": "stdout",
     "output_type": "stream",
     "text": [
      "Model: RandomForestRegressor\n",
      "Mean Squared Error: 12955.094520980141\n",
      "\n"
     ]
    }
   ],
   "source": [
    "print(f\"Model: {model.__class__.__name__}\")\n",
    "print(f\"Mean Squared Error: {mse}\\n\")"
   ]
  },
  {
   "cell_type": "code",
   "execution_count": 84,
   "id": "60f87ea2",
   "metadata": {},
   "outputs": [
    {
     "name": "stdout",
     "output_type": "stream",
     "text": [
      "Mean Squared Error: 13584.84748228878\n"
     ]
    }
   ],
   "source": [
    "x_train, x_test, y_train, y_test = train_test_split(x_multi, y_multi, test_size=0.2, random_state=42)\n",
    "model = RandomForestRegressor()\n",
    "model.fit(x_train, y_train)\n",
    "y_pred = model.predict(x_test)\n",
    "mse = mean_squared_error(y_test, y_pred)\n",
    "print(\"Mean Squared Error:\", mse)\n",
    "                         "
   ]
  },
  {
   "cell_type": "code",
   "execution_count": 85,
   "id": "a1156e5b",
   "metadata": {},
   "outputs": [
    {
     "data": {
      "text/html": [
       "<table class=\"simpletable\">\n",
       "<caption>OLS Regression Results</caption>\n",
       "<tr>\n",
       "  <th>Dep. Variable:</th>      <td>Previous CTC</td>   <th>  R-squared:         </th> <td>   0.067</td> \n",
       "</tr>\n",
       "<tr>\n",
       "  <th>Model:</th>                   <td>OLS</td>       <th>  Adj. R-squared:    </th> <td>   0.066</td> \n",
       "</tr>\n",
       "<tr>\n",
       "  <th>Method:</th>             <td>Least Squares</td>  <th>  F-statistic:       </th> <td>   113.2</td> \n",
       "</tr>\n",
       "<tr>\n",
       "  <th>Date:</th>             <td>Mon, 17 Jul 2023</td> <th>  Prob (F-statistic):</th> <td>1.41e-25</td> \n",
       "</tr>\n",
       "<tr>\n",
       "  <th>Time:</th>                 <td>03:02:28</td>     <th>  Log-Likelihood:    </th> <td> -16188.</td> \n",
       "</tr>\n",
       "<tr>\n",
       "  <th>No. Observations:</th>      <td>  1589</td>      <th>  AIC:               </th> <td>3.238e+04</td>\n",
       "</tr>\n",
       "<tr>\n",
       "  <th>Df Residuals:</th>          <td>  1587</td>      <th>  BIC:               </th> <td>3.239e+04</td>\n",
       "</tr>\n",
       "<tr>\n",
       "  <th>Df Model:</th>              <td>     1</td>      <th>                     </th>     <td> </td>    \n",
       "</tr>\n",
       "<tr>\n",
       "  <th>Covariance Type:</th>      <td>nonrobust</td>    <th>                     </th>     <td> </td>    \n",
       "</tr>\n",
       "</table>\n",
       "<table class=\"simpletable\">\n",
       "<tr>\n",
       "    <td></td>       <th>coef</th>     <th>std err</th>      <th>t</th>      <th>P>|t|</th>  <th>[0.025</th>    <th>0.975]</th>  \n",
       "</tr>\n",
       "<tr>\n",
       "  <th>const</th> <td> 4.524e+04</td> <td>  979.622</td> <td>   46.180</td> <td> 0.000</td> <td> 4.33e+04</td> <td> 4.72e+04</td>\n",
       "</tr>\n",
       "<tr>\n",
       "  <th>CTC</th>   <td>    0.1364</td> <td>    0.013</td> <td>   10.638</td> <td> 0.000</td> <td>    0.111</td> <td>    0.162</td>\n",
       "</tr>\n",
       "</table>\n",
       "<table class=\"simpletable\">\n",
       "<tr>\n",
       "  <th>Omnibus:</th>       <td> 9.509</td> <th>  Durbin-Watson:     </th> <td>   2.071</td>\n",
       "</tr>\n",
       "<tr>\n",
       "  <th>Prob(Omnibus):</th> <td> 0.009</td> <th>  Jarque-Bera (JB):  </th> <td>   9.641</td>\n",
       "</tr>\n",
       "<tr>\n",
       "  <th>Skew:</th>          <td> 0.184</td> <th>  Prob(JB):          </th> <td> 0.00806</td>\n",
       "</tr>\n",
       "<tr>\n",
       "  <th>Kurtosis:</th>      <td> 2.900</td> <th>  Cond. No.          </th> <td>4.64e+05</td>\n",
       "</tr>\n",
       "</table><br/><br/>Notes:<br/>[1] Standard Errors assume that the covariance matrix of the errors is correctly specified.<br/>[2] The condition number is large, 4.64e+05. This might indicate that there are<br/>strong multicollinearity or other numerical problems."
      ],
      "text/plain": [
       "<class 'statsmodels.iolib.summary.Summary'>\n",
       "\"\"\"\n",
       "                            OLS Regression Results                            \n",
       "==============================================================================\n",
       "Dep. Variable:           Previous CTC   R-squared:                       0.067\n",
       "Model:                            OLS   Adj. R-squared:                  0.066\n",
       "Method:                 Least Squares   F-statistic:                     113.2\n",
       "Date:                Mon, 17 Jul 2023   Prob (F-statistic):           1.41e-25\n",
       "Time:                        03:02:28   Log-Likelihood:                -16188.\n",
       "No. Observations:                1589   AIC:                         3.238e+04\n",
       "Df Residuals:                    1587   BIC:                         3.239e+04\n",
       "Df Model:                           1                                         \n",
       "Covariance Type:            nonrobust                                         \n",
       "==============================================================================\n",
       "                 coef    std err          t      P>|t|      [0.025      0.975]\n",
       "------------------------------------------------------------------------------\n",
       "const       4.524e+04    979.622     46.180      0.000    4.33e+04    4.72e+04\n",
       "CTC            0.1364      0.013     10.638      0.000       0.111       0.162\n",
       "==============================================================================\n",
       "Omnibus:                        9.509   Durbin-Watson:                   2.071\n",
       "Prob(Omnibus):                  0.009   Jarque-Bera (JB):                9.641\n",
       "Skew:                           0.184   Prob(JB):                      0.00806\n",
       "Kurtosis:                       2.900   Cond. No.                     4.64e+05\n",
       "==============================================================================\n",
       "\n",
       "Notes:\n",
       "[1] Standard Errors assume that the covariance matrix of the errors is correctly specified.\n",
       "[2] The condition number is large, 4.64e+05. This might indicate that there are\n",
       "strong multicollinearity or other numerical problems.\n",
       "\"\"\""
      ]
     },
     "execution_count": 85,
     "metadata": {},
     "output_type": "execute_result"
    }
   ],
   "source": [
    "import statsmodels.api as sn\n",
    "x = sn.add_constant(df1['CTC'])\n",
    "lm = sn.OLS(df1['Previous CTC'], x).fit()\n",
    "\n",
    "lm.summary()"
   ]
  },
  {
   "cell_type": "code",
   "execution_count": 88,
   "id": "744db7f3",
   "metadata": {},
   "outputs": [
    {
     "name": "stdout",
     "output_type": "stream",
     "text": [
      "48262.17974591337 [0.48796566]\n"
     ]
    },
    {
     "data": {
      "text/plain": [
       "<seaborn.axisgrid.JointGrid at 0x20ca8f45cf0>"
      ]
     },
     "execution_count": 88,
     "metadata": {},
     "output_type": "execute_result"
    },
    {
     "data": {
      "image/png": "[encoded data removed]",
      "text/plain": [
       "<Figure size 600x600 with 3 Axes>"
      ]
     },
     "metadata": {},
     "output_type": "display_data"
    }
   ],
   "source": [
    "from sklearn.linear_model import LinearRegression\n",
    "y = df1['CTC']\n",
    "x = df1[['Previous CTC']]\n",
    "lm2 = LinearRegression()\n",
    "lm2.fit(x,y)\n",
    "print(lm2.intercept_,lm2.coef_)\n",
    "sns.jointplot(x = df1['Previous CTC'], y = df1['CTC'], data =df1, kind = 'reg')"
   ]
  },
  {
   "cell_type": "code",
   "execution_count": 89,
   "id": "fcfee842",
   "metadata": {},
   "outputs": [],
   "source": [
    "x_multi_cons = sn.add_constant(x_multi)"
   ]
  },
  {
   "cell_type": "code",
   "execution_count": 90,
   "id": "997c6591",
   "metadata": {},
   "outputs": [],
   "source": [
    "lm_multi = sn.OLS(y_multi, x_multi_cons).fit()"
   ]
  },
  {
   "cell_type": "code",
   "execution_count": 91,
   "id": "1d3eb533",
   "metadata": {},
   "outputs": [
    {
     "data": {
      "text/html": [
       "<table class=\"simpletable\">\n",
       "<caption>OLS Regression Results</caption>\n",
       "<tr>\n",
       "  <th>Dep. Variable:</th>           <td>CTC</td>       <th>  R-squared:         </th>  <td>   1.000</td> \n",
       "</tr>\n",
       "<tr>\n",
       "  <th>Model:</th>                   <td>OLS</td>       <th>  Adj. R-squared:    </th>  <td>   1.000</td> \n",
       "</tr>\n",
       "<tr>\n",
       "  <th>Method:</th>             <td>Least Squares</td>  <th>  F-statistic:       </th>  <td>9.315e+30</td>\n",
       "</tr>\n",
       "<tr>\n",
       "  <th>Date:</th>             <td>Mon, 17 Jul 2023</td> <th>  Prob (F-statistic):</th>   <td>  0.00</td>  \n",
       "</tr>\n",
       "<tr>\n",
       "  <th>Time:</th>                 <td>03:05:22</td>     <th>  Log-Likelihood:    </th>  <td>  35094.</td> \n",
       "</tr>\n",
       "<tr>\n",
       "  <th>No. Observations:</th>      <td>  1589</td>      <th>  AIC:               </th> <td>-7.017e+04</td>\n",
       "</tr>\n",
       "<tr>\n",
       "  <th>Df Residuals:</th>          <td>  1581</td>      <th>  BIC:               </th> <td>-7.013e+04</td>\n",
       "</tr>\n",
       "<tr>\n",
       "  <th>Df Model:</th>              <td>     7</td>      <th>                     </th>      <td> </td>    \n",
       "</tr>\n",
       "<tr>\n",
       "  <th>Covariance Type:</th>      <td>nonrobust</td>    <th>                     </th>      <td> </td>    \n",
       "</tr>\n",
       "</table>\n",
       "<table class=\"simpletable\">\n",
       "<tr>\n",
       "               <td></td>                 <th>coef</th>     <th>std err</th>      <th>t</th>      <th>P>|t|</th>  <th>[0.025</th>    <th>0.975]</th>  \n",
       "</tr>\n",
       "<tr>\n",
       "  <th>const</th>                      <td>-3.183e-12</td> <td> 5.94e-12</td> <td>   -0.536</td> <td> 0.592</td> <td>-1.48e-11</td> <td> 8.47e-12</td>\n",
       "</tr>\n",
       "<tr>\n",
       "  <th>Previous job change</th>        <td>-2.728e-12</td> <td> 1.39e-12</td> <td>   -1.961</td> <td> 0.050</td> <td>-5.46e-12</td> <td> 6.75e-16</td>\n",
       "</tr>\n",
       "<tr>\n",
       "  <th>Graduation Marks</th>           <td> 1.137e-13</td> <td> 1.05e-13</td> <td>    1.087</td> <td> 0.277</td> <td>-9.15e-14</td> <td> 3.19e-13</td>\n",
       "</tr>\n",
       "<tr>\n",
       "  <th>EXP (Month)</th>                <td> 2.416e-13</td> <td> 1.21e-13</td> <td>    1.994</td> <td> 0.046</td> <td> 3.91e-15</td> <td> 4.79e-13</td>\n",
       "</tr>\n",
       "<tr>\n",
       "  <th>CTC</th>                        <td>    1.0000</td> <td> 1.73e-16</td> <td> 5.78e+15</td> <td> 0.000</td> <td>    1.000</td> <td>    1.000</td>\n",
       "</tr>\n",
       "<tr>\n",
       "  <th>College type_Tier 1</th>        <td> 4.547e-13</td> <td> 3.46e-12</td> <td>    0.132</td> <td> 0.895</td> <td>-6.33e-12</td> <td> 7.24e-12</td>\n",
       "</tr>\n",
       "<tr>\n",
       "  <th>College type_Tier 3</th>        <td>-2.274e-13</td> <td> 3.31e-12</td> <td>   -0.069</td> <td> 0.945</td> <td>-6.72e-12</td> <td> 6.26e-12</td>\n",
       "</tr>\n",
       "<tr>\n",
       "  <th>City Type_Metrio City</th>      <td>-1.364e-12</td> <td> 3.38e-12</td> <td>   -0.404</td> <td> 0.686</td> <td>-7.99e-12</td> <td> 5.26e-12</td>\n",
       "</tr>\n",
       "<tr>\n",
       "  <th>City Type_non-metro cities</th> <td>-3.183e-12</td> <td> 3.34e-12</td> <td>   -0.954</td> <td> 0.340</td> <td>-9.72e-12</td> <td> 3.36e-12</td>\n",
       "</tr>\n",
       "<tr>\n",
       "  <th>Role_Executive</th>             <td>-3.411e-12</td> <td> 2.54e-12</td> <td>   -1.344</td> <td> 0.179</td> <td>-8.39e-12</td> <td> 1.57e-12</td>\n",
       "</tr>\n",
       "<tr>\n",
       "  <th>Role_Manager</th>               <td> 4.547e-13</td> <td> 4.94e-12</td> <td>    0.092</td> <td> 0.927</td> <td>-9.24e-12</td> <td> 1.01e-11</td>\n",
       "</tr>\n",
       "</table>\n",
       "<table class=\"simpletable\">\n",
       "<tr>\n",
       "  <th>Omnibus:</th>       <td>250.274</td> <th>  Durbin-Watson:     </th> <td>   0.079</td>\n",
       "</tr>\n",
       "<tr>\n",
       "  <th>Prob(Omnibus):</th> <td> 0.000</td>  <th>  Jarque-Bera (JB):  </th> <td> 399.033</td>\n",
       "</tr>\n",
       "<tr>\n",
       "  <th>Skew:</th>          <td> 1.057</td>  <th>  Prob(JB):          </th> <td>2.24e-87</td>\n",
       "</tr>\n",
       "<tr>\n",
       "  <th>Kurtosis:</th>      <td> 4.249</td>  <th>  Cond. No.          </th> <td>1.52e+21</td>\n",
       "</tr>\n",
       "</table><br/><br/>Notes:<br/>[1] Standard Errors assume that the covariance matrix of the errors is correctly specified.<br/>[2] The smallest eigenvalue is 4.03e-30. This might indicate that there are<br/>strong multicollinearity problems or that the design matrix is singular."
      ],
      "text/plain": [
       "<class 'statsmodels.iolib.summary.Summary'>\n",
       "\"\"\"\n",
       "                            OLS Regression Results                            \n",
       "==============================================================================\n",
       "Dep. Variable:                    CTC   R-squared:                       1.000\n",
       "Model:                            OLS   Adj. R-squared:                  1.000\n",
       "Method:                 Least Squares   F-statistic:                 9.315e+30\n",
       "Date:                Mon, 17 Jul 2023   Prob (F-statistic):               0.00\n",
       "Time:                        03:05:22   Log-Likelihood:                 35094.\n",
       "No. Observations:                1589   AIC:                        -7.017e+04\n",
       "Df Residuals:                    1581   BIC:                        -7.013e+04\n",
       "Df Model:                           7                                         \n",
       "Covariance Type:            nonrobust                                         \n",
       "==============================================================================================\n",
       "                                 coef    std err          t      P>|t|      [0.025      0.975]\n",
       "----------------------------------------------------------------------------------------------\n",
       "const                      -3.183e-12   5.94e-12     -0.536      0.592   -1.48e-11    8.47e-12\n",
       "Previous job change        -2.728e-12   1.39e-12     -1.961      0.050   -5.46e-12    6.75e-16\n",
       "Graduation Marks            1.137e-13   1.05e-13      1.087      0.277   -9.15e-14    3.19e-13\n",
       "EXP (Month)                 2.416e-13   1.21e-13      1.994      0.046    3.91e-15    4.79e-13\n",
       "CTC                            1.0000   1.73e-16   5.78e+15      0.000       1.000       1.000\n",
       "College type_Tier 1         4.547e-13   3.46e-12      0.132      0.895   -6.33e-12    7.24e-12\n",
       "College type_Tier 3        -2.274e-13   3.31e-12     -0.069      0.945   -6.72e-12    6.26e-12\n",
       "City Type_Metrio City      -1.364e-12   3.38e-12     -0.404      0.686   -7.99e-12    5.26e-12\n",
       "City Type_non-metro cities -3.183e-12   3.34e-12     -0.954      0.340   -9.72e-12    3.36e-12\n",
       "Role_Executive             -3.411e-12   2.54e-12     -1.344      0.179   -8.39e-12    1.57e-12\n",
       "Role_Manager                4.547e-13   4.94e-12      0.092      0.927   -9.24e-12    1.01e-11\n",
       "==============================================================================\n",
       "Omnibus:                      250.274   Durbin-Watson:                   0.079\n",
       "Prob(Omnibus):                  0.000   Jarque-Bera (JB):              399.033\n",
       "Skew:                           1.057   Prob(JB):                     2.24e-87\n",
       "Kurtosis:                       4.249   Cond. No.                     1.52e+21\n",
       "==============================================================================\n",
       "\n",
       "Notes:\n",
       "[1] Standard Errors assume that the covariance matrix of the errors is correctly specified.\n",
       "[2] The smallest eigenvalue is 4.03e-30. This might indicate that there are\n",
       "strong multicollinearity problems or that the design matrix is singular.\n",
       "\"\"\""
      ]
     },
     "execution_count": 91,
     "metadata": {},
     "output_type": "execute_result"
    }
   ],
   "source": [
    "lm_multi.summary()"
   ]
  },
  {
   "cell_type": "code",
   "execution_count": 92,
   "id": "8f50f460",
   "metadata": {},
   "outputs": [],
   "source": [
    "lm4 = LinearRegression()\n"
   ]
  },
  {
   "cell_type": "code",
   "execution_count": 93,
   "id": "fcac8f49",
   "metadata": {},
   "outputs": [
    {
     "data": {
      "text/html": [
       "<style>#sk-container-id-1 {color: black;background-color: white;}#sk-container-id-1 pre{padding: 0;}#sk-container-id-1 div.sk-toggleable {background-color: white;}#sk-container-id-1 label.sk-toggleable__label {cursor: pointer;display: block;width: 100%;margin-bottom: 0;padding: 0.3em;box-sizing: border-box;text-align: center;}#sk-container-id-1 label.sk-toggleable__label-arrow:before {content: \"▸\";float: left;margin-right: 0.25em;color: #696969;}#sk-container-id-1 label.sk-toggleable__label-arrow:hover:before {color: black;}#sk-container-id-1 div.sk-estimator:hover label.sk-toggleable__label-arrow:before {color: black;}#sk-container-id-1 div.sk-toggleable__content {max-height: 0;max-width: 0;overflow: hidden;text-align: left;background-color: #f0f8ff;}#sk-container-id-1 div.sk-toggleable__content pre {margin: 0.2em;color: black;border-radius: 0.25em;background-color: #f0f8ff;}#sk-container-id-1 input.sk-toggleable__control:checked~div.sk-toggleable__content {max-height: 200px;max-width: 100%;overflow: auto;}#sk-container-id-1 input.sk-toggleable__control:checked~label.sk-toggleable__label-arrow:before {content: \"▾\";}#sk-container-id-1 div.sk-estimator input.sk-toggleable__control:checked~label.sk-toggleable__label {background-color: #d4ebff;}#sk-container-id-1 div.sk-label input.sk-toggleable__control:checked~label.sk-toggleable__label {background-color: #d4ebff;}#sk-container-id-1 input.sk-hidden--visually {border: 0;clip: rect(1px 1px 1px 1px);clip: rect(1px, 1px, 1px, 1px);height: 1px;margin: -1px;overflow: hidden;padding: 0;position: absolute;width: 1px;}#sk-container-id-1 div.sk-estimator {font-family: monospace;background-color: #f0f8ff;border: 1px dotted black;border-radius: 0.25em;box-sizing: border-box;margin-bottom: 0.5em;}#sk-container-id-1 div.sk-estimator:hover {background-color: #d4ebff;}#sk-container-id-1 div.sk-parallel-item::after {content: \"\";width: 100%;border-bottom: 1px solid gray;flex-grow: 1;}#sk-container-id-1 div.sk-label:hover label.sk-toggleable__label {background-color: #d4ebff;}#sk-container-id-1 div.sk-serial::before {content: \"\";position: absolute;border-left: 1px solid gray;box-sizing: border-box;top: 0;bottom: 0;left: 50%;z-index: 0;}#sk-container-id-1 div.sk-serial {display: flex;flex-direction: column;align-items: center;background-color: white;padding-right: 0.2em;padding-left: 0.2em;position: relative;}#sk-container-id-1 div.sk-item {position: relative;z-index: 1;}#sk-container-id-1 div.sk-parallel {display: flex;align-items: stretch;justify-content: center;background-color: white;position: relative;}#sk-container-id-1 div.sk-item::before, #sk-container-id-1 div.sk-parallel-item::before {content: \"\";position: absolute;border-left: 1px solid gray;box-sizing: border-box;top: 0;bottom: 0;left: 50%;z-index: -1;}#sk-container-id-1 div.sk-parallel-item {display: flex;flex-direction: column;z-index: 1;position: relative;background-color: white;}#sk-container-id-1 div.sk-parallel-item:first-child::after {align-self: flex-end;width: 50%;}#sk-container-id-1 div.sk-parallel-item:last-child::after {align-self: flex-start;width: 50%;}#sk-container-id-1 div.sk-parallel-item:only-child::after {width: 0;}#sk-container-id-1 div.sk-dashed-wrapped {border: 1px dashed gray;margin: 0 0.4em 0.5em 0.4em;box-sizing: border-box;padding-bottom: 0.4em;background-color: white;}#sk-container-id-1 div.sk-label label {font-family: monospace;font-weight: bold;display: inline-block;line-height: 1.2em;}#sk-container-id-1 div.sk-label-container {text-align: center;}#sk-container-id-1 div.sk-container {/* jupyter's `normalize.less` sets `[hidden] { display: none; }` but bootstrap.min.css set `[hidden] { display: none !important; }` so we also need the `!important` here to be able to override the default hidden behavior on the sphinx rendered scikit-learn.org. See: https://github.com/scikit-learn/scikit-learn/issues/21755 */display: inline-block !important;position: relative;}#sk-container-id-1 div.sk-text-repr-fallback {display: none;}</style><div id=\"sk-container-id-1\" class=\"sk-top-container\"><div class=\"sk-text-repr-fallback\"><pre>LinearRegression()</pre><b>In a Jupyter environment, please rerun this cell to show the HTML representation or trust the notebook. <br />On GitHub, the HTML representation is unable to render, please try loading this page with nbviewer.org.</b></div><div class=\"sk-container\" hidden><div class=\"sk-item\"><div class=\"sk-estimator sk-toggleable\"><input class=\"sk-toggleable__control sk-hidden--visually\" id=\"sk-estimator-id-1\" type=\"checkbox\" checked><label for=\"sk-estimator-id-1\" class=\"sk-toggleable__label sk-toggleable__label-arrow\">LinearRegression</label><div class=\"sk-toggleable__content\"><pre>LinearRegression()</pre></div></div></div></div></div>"
      ],
      "text/plain": [
       "LinearRegression()"
      ]
     },
     "execution_count": 93,
     "metadata": {},
     "output_type": "execute_result"
    }
   ],
   "source": [
    "lm4.fit(x_multi, y_multi)"
   ]
  },
  {
   "cell_type": "code",
   "execution_count": 94,
   "id": "7479241e",
   "metadata": {},
   "outputs": [
    {
     "name": "stdout",
     "output_type": "stream",
     "text": [
      "1.4551915228366852e-11 [-5.22170313e-14  3.80538505e-13 -3.97393559e-14  1.00000000e+00\n",
      "  3.32393920e-13 -3.32394001e-13 -5.47307207e-13  5.47307234e-13\n",
      " -4.56773726e-14  4.56774200e-14]\n"
     ]
    }
   ],
   "source": [
    "print(lm4.intercept_, lm4.coef_)"
   ]
  },
  {
   "cell_type": "code",
   "execution_count": 95,
   "id": "baa14c5e",
   "metadata": {},
   "outputs": [],
   "source": [
    "from sklearn import tree\n",
    "regtree = tree.DecisionTreeRegressor(max_depth = 3)"
   ]
  },
  {
   "cell_type": "code",
   "execution_count": 96,
   "id": "9454daf3",
   "metadata": {},
   "outputs": [
    {
     "data": {
      "text/html": [
       "<style>#sk-container-id-2 {color: black;background-color: white;}#sk-container-id-2 pre{padding: 0;}#sk-container-id-2 div.sk-toggleable {background-color: white;}#sk-container-id-2 label.sk-toggleable__label {cursor: pointer;display: block;width: 100%;margin-bottom: 0;padding: 0.3em;box-sizing: border-box;text-align: center;}#sk-container-id-2 label.sk-toggleable__label-arrow:before {content: \"▸\";float: left;margin-right: 0.25em;color: #696969;}#sk-container-id-2 label.sk-toggleable__label-arrow:hover:before {color: black;}#sk-container-id-2 div.sk-estimator:hover label.sk-toggleable__label-arrow:before {color: black;}#sk-container-id-2 div.sk-toggleable__content {max-height: 0;max-width: 0;overflow: hidden;text-align: left;background-color: #f0f8ff;}#sk-container-id-2 div.sk-toggleable__content pre {margin: 0.2em;color: black;border-radius: 0.25em;background-color: #f0f8ff;}#sk-container-id-2 input.sk-toggleable__control:checked~div.sk-toggleable__content {max-height: 200px;max-width: 100%;overflow: auto;}#sk-container-id-2 input.sk-toggleable__control:checked~label.sk-toggleable__label-arrow:before {content: \"▾\";}#sk-container-id-2 div.sk-estimator input.sk-toggleable__control:checked~label.sk-toggleable__label {background-color: #d4ebff;}#sk-container-id-2 div.sk-label input.sk-toggleable__control:checked~label.sk-toggleable__label {background-color: #d4ebff;}#sk-container-id-2 input.sk-hidden--visually {border: 0;clip: rect(1px 1px 1px 1px);clip: rect(1px, 1px, 1px, 1px);height: 1px;margin: -1px;overflow: hidden;padding: 0;position: absolute;width: 1px;}#sk-container-id-2 div.sk-estimator {font-family: monospace;background-color: #f0f8ff;border: 1px dotted black;border-radius: 0.25em;box-sizing: border-box;margin-bottom: 0.5em;}#sk-container-id-2 div.sk-estimator:hover {background-color: #d4ebff;}#sk-container-id-2 div.sk-parallel-item::after {content: \"\";width: 100%;border-bottom: 1px solid gray;flex-grow: 1;}#sk-container-id-2 div.sk-label:hover label.sk-toggleable__label {background-color: #d4ebff;}#sk-container-id-2 div.sk-serial::before {content: \"\";position: absolute;border-left: 1px solid gray;box-sizing: border-box;top: 0;bottom: 0;left: 50%;z-index: 0;}#sk-container-id-2 div.sk-serial {display: flex;flex-direction: column;align-items: center;background-color: white;padding-right: 0.2em;padding-left: 0.2em;position: relative;}#sk-container-id-2 div.sk-item {position: relative;z-index: 1;}#sk-container-id-2 div.sk-parallel {display: flex;align-items: stretch;justify-content: center;background-color: white;position: relative;}#sk-container-id-2 div.sk-item::before, #sk-container-id-2 div.sk-parallel-item::before {content: \"\";position: absolute;border-left: 1px solid gray;box-sizing: border-box;top: 0;bottom: 0;left: 50%;z-index: -1;}#sk-container-id-2 div.sk-parallel-item {display: flex;flex-direction: column;z-index: 1;position: relative;background-color: white;}#sk-container-id-2 div.sk-parallel-item:first-child::after {align-self: flex-end;width: 50%;}#sk-container-id-2 div.sk-parallel-item:last-child::after {align-self: flex-start;width: 50%;}#sk-container-id-2 div.sk-parallel-item:only-child::after {width: 0;}#sk-container-id-2 div.sk-dashed-wrapped {border: 1px dashed gray;margin: 0 0.4em 0.5em 0.4em;box-sizing: border-box;padding-bottom: 0.4em;background-color: white;}#sk-container-id-2 div.sk-label label {font-family: monospace;font-weight: bold;display: inline-block;line-height: 1.2em;}#sk-container-id-2 div.sk-label-container {text-align: center;}#sk-container-id-2 div.sk-container {/* jupyter's `normalize.less` sets `[hidden] { display: none; }` but bootstrap.min.css set `[hidden] { display: none !important; }` so we also need the `!important` here to be able to override the default hidden behavior on the sphinx rendered scikit-learn.org. See: https://github.com/scikit-learn/scikit-learn/issues/21755 */display: inline-block !important;position: relative;}#sk-container-id-2 div.sk-text-repr-fallback {display: none;}</style><div id=\"sk-container-id-2\" class=\"sk-top-container\"><div class=\"sk-text-repr-fallback\"><pre>DecisionTreeRegressor(max_depth=3)</pre><b>In a Jupyter environment, please rerun this cell to show the HTML representation or trust the notebook. <br />On GitHub, the HTML representation is unable to render, please try loading this page with nbviewer.org.</b></div><div class=\"sk-container\" hidden><div class=\"sk-item\"><div class=\"sk-estimator sk-toggleable\"><input class=\"sk-toggleable__control sk-hidden--visually\" id=\"sk-estimator-id-2\" type=\"checkbox\" checked><label for=\"sk-estimator-id-2\" class=\"sk-toggleable__label sk-toggleable__label-arrow\">DecisionTreeRegressor</label><div class=\"sk-toggleable__content\"><pre>DecisionTreeRegressor(max_depth=3)</pre></div></div></div></div></div>"
      ],
      "text/plain": [
       "DecisionTreeRegressor(max_depth=3)"
      ]
     },
     "execution_count": 96,
     "metadata": {},
     "output_type": "execute_result"
    }
   ],
   "source": [
    "regtree.fit(x_train, y_train)"
   ]
  },
  {
   "cell_type": "code",
   "execution_count": 97,
   "id": "fcc075aa",
   "metadata": {},
   "outputs": [],
   "source": [
    "y_train_pred = regtree.predict (x_train)\n",
    "y_test_pred = regtree.predict (x_test)"
   ]
  },
  {
   "cell_type": "code",
   "execution_count": 98,
   "id": "b6e3358a",
   "metadata": {},
   "outputs": [
    {
     "data": {
      "text/plain": [
       "array([ 72579.48748175,  84898.64269231,  72579.48748175,  72579.48748175,\n",
       "        59963.67644578,  72579.48748175,  72579.48748175,  84898.64269231,\n",
       "        78241.58842742,  78241.58842742,  92970.12197183, 112613.7034375 ,\n",
       "        59963.67644578,  78241.58842742,  67044.61019169,  84898.64269231,\n",
       "       101959.15269841,  67044.61019169,  67044.61019169,  59963.67644578,\n",
       "        59963.67644578, 112613.7034375 ,  84898.64269231,  59963.67644578,\n",
       "       101959.15269841,  84898.64269231,  59963.67644578,  59963.67644578,\n",
       "        59963.67644578,  72579.48748175, 101959.15269841,  78241.58842742,\n",
       "        84898.64269231,  84898.64269231,  67044.61019169,  67044.61019169,\n",
       "        84898.64269231,  92970.12197183,  84898.64269231,  67044.61019169,\n",
       "       112613.7034375 , 101959.15269841,  78241.58842742,  59963.67644578,\n",
       "        67044.61019169,  59963.67644578,  78241.58842742,  72579.48748175,\n",
       "       112613.7034375 ,  67044.61019169,  67044.61019169,  59963.67644578,\n",
       "        67044.61019169,  78241.58842742,  67044.61019169,  72579.48748175,\n",
       "        72579.48748175,  59963.67644578,  59963.67644578,  59963.67644578,\n",
       "        67044.61019169,  67044.61019169,  67044.61019169,  78241.58842742,\n",
       "        59963.67644578,  78241.58842742,  59963.67644578, 112613.7034375 ,\n",
       "        72579.48748175,  72579.48748175,  78241.58842742,  78241.58842742,\n",
       "        67044.61019169,  67044.61019169,  59963.67644578,  72579.48748175,\n",
       "        59963.67644578,  72579.48748175,  67044.61019169,  84898.64269231,\n",
       "        84898.64269231,  67044.61019169,  67044.61019169,  67044.61019169,\n",
       "        78241.58842742,  92970.12197183,  78241.58842742,  59963.67644578,\n",
       "        78241.58842742,  78241.58842742,  84898.64269231,  59963.67644578,\n",
       "       101959.15269841,  72579.48748175,  92970.12197183,  72579.48748175,\n",
       "        92970.12197183,  78241.58842742,  78241.58842742,  72579.48748175,\n",
       "        92970.12197183,  72579.48748175,  72579.48748175,  59963.67644578,\n",
       "        92970.12197183,  72579.48748175,  72579.48748175,  72579.48748175,\n",
       "        72579.48748175,  78241.58842742,  59963.67644578, 101959.15269841,\n",
       "        78241.58842742,  67044.61019169, 101959.15269841,  59963.67644578,\n",
       "        78241.58842742,  78241.58842742,  72579.48748175,  59963.67644578,\n",
       "        59963.67644578,  72579.48748175,  72579.48748175,  67044.61019169,\n",
       "        67044.61019169, 101959.15269841,  59963.67644578,  72579.48748175,\n",
       "        59963.67644578,  59963.67644578,  72579.48748175, 112613.7034375 ,\n",
       "        67044.61019169,  67044.61019169, 101959.15269841, 101959.15269841,\n",
       "        59963.67644578,  78241.58842742,  72579.48748175,  67044.61019169,\n",
       "        84898.64269231,  72579.48748175,  59963.67644578,  59963.67644578,\n",
       "        92970.12197183,  59963.67644578, 112613.7034375 ,  84898.64269231,\n",
       "        67044.61019169,  92970.12197183,  72579.48748175,  67044.61019169,\n",
       "        72579.48748175,  72579.48748175,  59963.67644578,  72579.48748175,\n",
       "        72579.48748175,  92970.12197183,  84898.64269231,  59963.67644578,\n",
       "        78241.58842742,  67044.61019169,  72579.48748175,  67044.61019169,\n",
       "        72579.48748175,  67044.61019169,  78241.58842742, 112613.7034375 ,\n",
       "        72579.48748175,  59963.67644578,  67044.61019169,  59963.67644578,\n",
       "        84898.64269231,  59963.67644578,  59963.67644578,  72579.48748175,\n",
       "        78241.58842742,  67044.61019169,  84898.64269231,  67044.61019169,\n",
       "       101959.15269841,  67044.61019169,  84898.64269231,  72579.48748175,\n",
       "       101959.15269841,  67044.61019169, 101959.15269841,  92970.12197183,\n",
       "       101959.15269841,  78241.58842742,  72579.48748175,  72579.48748175,\n",
       "       112613.7034375 , 101959.15269841,  67044.61019169, 101959.15269841,\n",
       "        67044.61019169,  59963.67644578,  84898.64269231,  67044.61019169,\n",
       "        72579.48748175, 101959.15269841,  78241.58842742,  92970.12197183,\n",
       "        59963.67644578,  72579.48748175, 101959.15269841,  78241.58842742,\n",
       "        59963.67644578,  78241.58842742,  67044.61019169,  72579.48748175,\n",
       "       101959.15269841,  67044.61019169,  78241.58842742,  78241.58842742,\n",
       "        59963.67644578,  78241.58842742,  84898.64269231, 101959.15269841,\n",
       "        59963.67644578, 101959.15269841,  67044.61019169,  78241.58842742,\n",
       "        84898.64269231,  67044.61019169,  92970.12197183,  78241.58842742,\n",
       "        78241.58842742,  78241.58842742,  72579.48748175,  67044.61019169,\n",
       "        78241.58842742,  72579.48748175,  67044.61019169,  78241.58842742,\n",
       "        72579.48748175,  72579.48748175,  78241.58842742,  67044.61019169,\n",
       "        67044.61019169,  67044.61019169,  72579.48748175,  84898.64269231,\n",
       "        67044.61019169,  72579.48748175,  72579.48748175,  78241.58842742,\n",
       "        59963.67644578,  67044.61019169,  59963.67644578,  78241.58842742,\n",
       "        59963.67644578,  59963.67644578,  59963.67644578,  67044.61019169,\n",
       "        78241.58842742,  72579.48748175,  72579.48748175,  67044.61019169,\n",
       "        84898.64269231,  72579.48748175,  84898.64269231,  78241.58842742,\n",
       "        67044.61019169,  72579.48748175,  59963.67644578,  59963.67644578,\n",
       "        78241.58842742,  67044.61019169,  67044.61019169,  84898.64269231,\n",
       "        72579.48748175, 101959.15269841,  67044.61019169,  72579.48748175,\n",
       "       112613.7034375 ,  92970.12197183,  72579.48748175,  67044.61019169,\n",
       "        92970.12197183,  78241.58842742,  78241.58842742,  72579.48748175,\n",
       "        78241.58842742,  72579.48748175,  78241.58842742,  59963.67644578,\n",
       "        72579.48748175,  67044.61019169,  78241.58842742,  59963.67644578,\n",
       "        72579.48748175,  59963.67644578,  84898.64269231,  67044.61019169,\n",
       "        59963.67644578,  84898.64269231,  59963.67644578,  59963.67644578,\n",
       "        67044.61019169,  72579.48748175,  78241.58842742,  67044.61019169,\n",
       "        84898.64269231,  84898.64269231,  78241.58842742,  59963.67644578,\n",
       "        59963.67644578,  59963.67644578, 101959.15269841,  78241.58842742,\n",
       "        72579.48748175,  67044.61019169,  59963.67644578,  72579.48748175,\n",
       "        59963.67644578, 101959.15269841])"
      ]
     },
     "execution_count": 98,
     "metadata": {},
     "output_type": "execute_result"
    }
   ],
   "source": [
    "y_test_pred"
   ]
  },
  {
   "cell_type": "code",
   "execution_count": 99,
   "id": "ea7cd11b",
   "metadata": {},
   "outputs": [],
   "source": [
    "from sklearn.metrics import mean_squared_error, mean_absolute_error, r2_score"
   ]
  },
  {
   "cell_type": "code",
   "execution_count": 100,
   "id": "68fc43f1",
   "metadata": {},
   "outputs": [
    {
     "data": {
      "text/plain": [
       "4580561.287809394"
      ]
     },
     "execution_count": 100,
     "metadata": {},
     "output_type": "execute_result"
    }
   ],
   "source": [
    "mean_squared_error(y_test, y_test_pred)"
   ]
  },
  {
   "cell_type": "code",
   "execution_count": 101,
   "id": "2e7d1dce",
   "metadata": {},
   "outputs": [
    {
     "data": {
      "text/plain": [
       "0.9714933013474321"
      ]
     },
     "execution_count": 101,
     "metadata": {},
     "output_type": "execute_result"
    }
   ],
   "source": [
    "r2_score(y_train,y_train_pred)"
   ]
  },
  {
   "cell_type": "code",
   "execution_count": 102,
   "id": "535d18fa",
   "metadata": {},
   "outputs": [
    {
     "data": {
      "text/plain": [
       "0.9759228256360548"
      ]
     },
     "execution_count": 102,
     "metadata": {},
     "output_type": "execute_result"
    }
   ],
   "source": [
    "r2_score(y_test, y_test_pred)"
   ]
  },
  {
   "cell_type": "code",
   "execution_count": 109,
   "id": "0ab05721",
   "metadata": {},
   "outputs": [],
   "source": [
    "dot_data = tree.export_graphviz(regtree, out_file=None)"
   ]
  },
  {
   "cell_type": "code",
   "execution_count": 110,
   "id": "02bf7914",
   "metadata": {},
   "outputs": [],
   "source": [
    "from IPython.display import Image"
   ]
  },
  {
   "cell_type": "code",
   "execution_count": 112,
   "id": "faf18d78",
   "metadata": {},
   "outputs": [
    {
     "ename": "ModuleNotFoundError",
     "evalue": "No module named 'pydotplus'",
     "output_type": "error",
     "traceback": [
      "\u001b[1;31m---------------------------------------------------------------------------\u001b[0m",
      "\u001b[1;31mModuleNotFoundError\u001b[0m                       Traceback (most recent call last)",
      "Cell \u001b[1;32mIn[112], line 1\u001b[0m\n\u001b[1;32m----> 1\u001b[0m \u001b[38;5;28;01mimport\u001b[39;00m \u001b[38;5;21;01mpydotplus\u001b[39;00m\n",
      "\u001b[1;31mModuleNotFoundError\u001b[0m: No module named 'pydotplus'"
     ]
    }
   ],
   "source": [
    "import pydotplus"
   ]
  },
  {
   "cell_type": "code",
   "execution_count": 113,
   "id": "cb707b15",
   "metadata": {},
   "outputs": [
    {
     "ename": "NameError",
     "evalue": "name 'pydotplus' is not defined",
     "output_type": "error",
     "traceback": [
      "\u001b[1;31m---------------------------------------------------------------------------\u001b[0m",
      "\u001b[1;31mNameError\u001b[0m                                 Traceback (most recent call last)",
      "Cell \u001b[1;32mIn[113], line 1\u001b[0m\n\u001b[1;32m----> 1\u001b[0m graph \u001b[38;5;241m=\u001b[39m \u001b[43mpydotplus\u001b[49m\u001b[38;5;241m.\u001b[39mgraph_from_dot_data(dot_data)\n\u001b[0;32m      2\u001b[0m Image(graph\u001b[38;5;241m.\u001b[39mcreate_png())\n",
      "\u001b[1;31mNameError\u001b[0m: name 'pydotplus' is not defined"
     ]
    }
   ],
   "source": [
    "graph = pydotplus.graph_from_dot_data(dot_data)\n",
    "Image(graph.create_png())"
   ]
  },
  {
   "cell_type": "code",
   "execution_count": 114,
   "id": "0fb2f9f4",
   "metadata": {},
   "outputs": [],
   "source": [
    "from sklearn.metrics import r2_score\n",
    "y_pred = model.predict(x_test)\n",
    "r2_score_value = r2_score(y_test, y_pred)"
   ]
  },
  {
   "cell_type": "code",
   "execution_count": 115,
   "id": "55ce4af7",
   "metadata": {},
   "outputs": [
    {
     "name": "stdout",
     "output_type": "stream",
     "text": [
      "R-squared: 0.9999285928686493\n"
     ]
    }
   ],
   "source": [
    "print(\"R-squared:\", r2_score_value)"
   ]
  },
  {
   "cell_type": "code",
   "execution_count": 116,
   "id": "6a26575f",
   "metadata": {},
   "outputs": [],
   "source": [
    "from sklearn.metrics import mean_absolute_error\n",
    "mae_value = mean_absolute_error(y_test, y_pred)"
   ]
  },
  {
   "cell_type": "code",
   "execution_count": 117,
   "id": "b57bc421",
   "metadata": {},
   "outputs": [],
   "source": [
    "from sklearn.ensemble import RandomForestRegressor\n",
    "from sklearn.metrics import mean_squared_error, mean_absolute_error, r2_score"
   ]
  },
  {
   "cell_type": "code",
   "execution_count": 118,
   "id": "dcb39f74",
   "metadata": {},
   "outputs": [],
   "source": [
    "rf_regr = RandomForestRegressor(n_estimators=100)"
   ]
  },
  {
   "cell_type": "code",
   "execution_count": 119,
   "id": "ddf1e1e7",
   "metadata": {},
   "outputs": [
    {
     "data": {
      "text/html": [
       "<style>#sk-container-id-3 {color: black;background-color: white;}#sk-container-id-3 pre{padding: 0;}#sk-container-id-3 div.sk-toggleable {background-color: white;}#sk-container-id-3 label.sk-toggleable__label {cursor: pointer;display: block;width: 100%;margin-bottom: 0;padding: 0.3em;box-sizing: border-box;text-align: center;}#sk-container-id-3 label.sk-toggleable__label-arrow:before {content: \"▸\";float: left;margin-right: 0.25em;color: #696969;}#sk-container-id-3 label.sk-toggleable__label-arrow:hover:before {color: black;}#sk-container-id-3 div.sk-estimator:hover label.sk-toggleable__label-arrow:before {color: black;}#sk-container-id-3 div.sk-toggleable__content {max-height: 0;max-width: 0;overflow: hidden;text-align: left;background-color: #f0f8ff;}#sk-container-id-3 div.sk-toggleable__content pre {margin: 0.2em;color: black;border-radius: 0.25em;background-color: #f0f8ff;}#sk-container-id-3 input.sk-toggleable__control:checked~div.sk-toggleable__content {max-height: 200px;max-width: 100%;overflow: auto;}#sk-container-id-3 input.sk-toggleable__control:checked~label.sk-toggleable__label-arrow:before {content: \"▾\";}#sk-container-id-3 div.sk-estimator input.sk-toggleable__control:checked~label.sk-toggleable__label {background-color: #d4ebff;}#sk-container-id-3 div.sk-label input.sk-toggleable__control:checked~label.sk-toggleable__label {background-color: #d4ebff;}#sk-container-id-3 input.sk-hidden--visually {border: 0;clip: rect(1px 1px 1px 1px);clip: rect(1px, 1px, 1px, 1px);height: 1px;margin: -1px;overflow: hidden;padding: 0;position: absolute;width: 1px;}#sk-container-id-3 div.sk-estimator {font-family: monospace;background-color: #f0f8ff;border: 1px dotted black;border-radius: 0.25em;box-sizing: border-box;margin-bottom: 0.5em;}#sk-container-id-3 div.sk-estimator:hover {background-color: #d4ebff;}#sk-container-id-3 div.sk-parallel-item::after {content: \"\";width: 100%;border-bottom: 1px solid gray;flex-grow: 1;}#sk-container-id-3 div.sk-label:hover label.sk-toggleable__label {background-color: #d4ebff;}#sk-container-id-3 div.sk-serial::before {content: \"\";position: absolute;border-left: 1px solid gray;box-sizing: border-box;top: 0;bottom: 0;left: 50%;z-index: 0;}#sk-container-id-3 div.sk-serial {display: flex;flex-direction: column;align-items: center;background-color: white;padding-right: 0.2em;padding-left: 0.2em;position: relative;}#sk-container-id-3 div.sk-item {position: relative;z-index: 1;}#sk-container-id-3 div.sk-parallel {display: flex;align-items: stretch;justify-content: center;background-color: white;position: relative;}#sk-container-id-3 div.sk-item::before, #sk-container-id-3 div.sk-parallel-item::before {content: \"\";position: absolute;border-left: 1px solid gray;box-sizing: border-box;top: 0;bottom: 0;left: 50%;z-index: -1;}#sk-container-id-3 div.sk-parallel-item {display: flex;flex-direction: column;z-index: 1;position: relative;background-color: white;}#sk-container-id-3 div.sk-parallel-item:first-child::after {align-self: flex-end;width: 50%;}#sk-container-id-3 div.sk-parallel-item:last-child::after {align-self: flex-start;width: 50%;}#sk-container-id-3 div.sk-parallel-item:only-child::after {width: 0;}#sk-container-id-3 div.sk-dashed-wrapped {border: 1px dashed gray;margin: 0 0.4em 0.5em 0.4em;box-sizing: border-box;padding-bottom: 0.4em;background-color: white;}#sk-container-id-3 div.sk-label label {font-family: monospace;font-weight: bold;display: inline-block;line-height: 1.2em;}#sk-container-id-3 div.sk-label-container {text-align: center;}#sk-container-id-3 div.sk-container {/* jupyter's `normalize.less` sets `[hidden] { display: none; }` but bootstrap.min.css set `[hidden] { display: none !important; }` so we also need the `!important` here to be able to override the default hidden behavior on the sphinx rendered scikit-learn.org. See: https://github.com/scikit-learn/scikit-learn/issues/21755 */display: inline-block !important;position: relative;}#sk-container-id-3 div.sk-text-repr-fallback {display: none;}</style><div id=\"sk-container-id-3\" class=\"sk-top-container\"><div class=\"sk-text-repr-fallback\"><pre>RandomForestRegressor()</pre><b>In a Jupyter environment, please rerun this cell to show the HTML representation or trust the notebook. <br />On GitHub, the HTML representation is unable to render, please try loading this page with nbviewer.org.</b></div><div class=\"sk-container\" hidden><div class=\"sk-item\"><div class=\"sk-estimator sk-toggleable\"><input class=\"sk-toggleable__control sk-hidden--visually\" id=\"sk-estimator-id-3\" type=\"checkbox\" checked><label for=\"sk-estimator-id-3\" class=\"sk-toggleable__label sk-toggleable__label-arrow\">RandomForestRegressor</label><div class=\"sk-toggleable__content\"><pre>RandomForestRegressor()</pre></div></div></div></div></div>"
      ],
      "text/plain": [
       "RandomForestRegressor()"
      ]
     },
     "execution_count": 119,
     "metadata": {},
     "output_type": "execute_result"
    }
   ],
   "source": [
    "rf_regr.fit(x_train, y_train)"
   ]
  },
  {
   "cell_type": "code",
   "execution_count": 120,
   "id": "217e9b4c",
   "metadata": {},
   "outputs": [],
   "source": [
    "y_pred = rf_regr.predict(x_test)"
   ]
  },
  {
   "cell_type": "code",
   "execution_count": 121,
   "id": "1823c063",
   "metadata": {},
   "outputs": [],
   "source": [
    "mse = mean_squared_error(y_test, y_pred)\n",
    "mae = mean_absolute_error(y_test, y_pred)\n",
    "r2 = r2_score(y_test, y_pred)"
   ]
  },
  {
   "cell_type": "code",
   "execution_count": 122,
   "id": "60cabaff",
   "metadata": {},
   "outputs": [
    {
     "name": "stdout",
     "output_type": "stream",
     "text": [
      "Mean Squared Error (MSE): 18051.836807576372\n",
      "Mean Absolute Error (MAE): 44.735603459116454\n",
      "R-squared (R^2) Score: 0.9999051126717675\n"
     ]
    }
   ],
   "source": [
    "print(\"Mean Squared Error (MSE):\", mse)\n",
    "print(\"Mean Absolute Error (MAE):\", mae)\n",
    "print(\"R-squared (R^2) Score:\", r2)"
   ]
  },
  {
   "cell_type": "code",
   "execution_count": 123,
   "id": "ce8feafa",
   "metadata": {},
   "outputs": [],
   "source": [
    "from sklearn.ensemble import RandomForestRegressor\n",
    "from sklearn.model_selection import GridSearchCV"
   ]
  },
  {
   "cell_type": "code",
   "execution_count": 128,
   "id": "54e2182a",
   "metadata": {},
   "outputs": [],
   "source": [
    "rf_regr = RandomForestRegressor()"
   ]
  },
  {
   "cell_type": "code",
   "execution_count": 129,
   "id": "7ef6445a",
   "metadata": {},
   "outputs": [],
   "source": [
    "param_grid = {\n",
    "'n_estimators': [5, 10, 20],\n",
    "'max_depth': [None, 3, 5],\n",
    "'min_samples_split': [2, 3, 4],\n",
    "'min_samples_leaf': [1, 2, 4]\n",
    "}"
   ]
  },
  {
   "cell_type": "code",
   "execution_count": 130,
   "id": "f063098a",
   "metadata": {},
   "outputs": [
    {
     "data": {
      "text/html": [
       "<style>#sk-container-id-5 {color: black;background-color: white;}#sk-container-id-5 pre{padding: 0;}#sk-container-id-5 div.sk-toggleable {background-color: white;}#sk-container-id-5 label.sk-toggleable__label {cursor: pointer;display: block;width: 100%;margin-bottom: 0;padding: 0.3em;box-sizing: border-box;text-align: center;}#sk-container-id-5 label.sk-toggleable__label-arrow:before {content: \"▸\";float: left;margin-right: 0.25em;color: #696969;}#sk-container-id-5 label.sk-toggleable__label-arrow:hover:before {color: black;}#sk-container-id-5 div.sk-estimator:hover label.sk-toggleable__label-arrow:before {color: black;}#sk-container-id-5 div.sk-toggleable__content {max-height: 0;max-width: 0;overflow: hidden;text-align: left;background-color: #f0f8ff;}#sk-container-id-5 div.sk-toggleable__content pre {margin: 0.2em;color: black;border-radius: 0.25em;background-color: #f0f8ff;}#sk-container-id-5 input.sk-toggleable__control:checked~div.sk-toggleable__content {max-height: 200px;max-width: 100%;overflow: auto;}#sk-container-id-5 input.sk-toggleable__control:checked~label.sk-toggleable__label-arrow:before {content: \"▾\";}#sk-container-id-5 div.sk-estimator input.sk-toggleable__control:checked~label.sk-toggleable__label {background-color: #d4ebff;}#sk-container-id-5 div.sk-label input.sk-toggleable__control:checked~label.sk-toggleable__label {background-color: #d4ebff;}#sk-container-id-5 input.sk-hidden--visually {border: 0;clip: rect(1px 1px 1px 1px);clip: rect(1px, 1px, 1px, 1px);height: 1px;margin: -1px;overflow: hidden;padding: 0;position: absolute;width: 1px;}#sk-container-id-5 div.sk-estimator {font-family: monospace;background-color: #f0f8ff;border: 1px dotted black;border-radius: 0.25em;box-sizing: border-box;margin-bottom: 0.5em;}#sk-container-id-5 div.sk-estimator:hover {background-color: #d4ebff;}#sk-container-id-5 div.sk-parallel-item::after {content: \"\";width: 100%;border-bottom: 1px solid gray;flex-grow: 1;}#sk-container-id-5 div.sk-label:hover label.sk-toggleable__label {background-color: #d4ebff;}#sk-container-id-5 div.sk-serial::before {content: \"\";position: absolute;border-left: 1px solid gray;box-sizing: border-box;top: 0;bottom: 0;left: 50%;z-index: 0;}#sk-container-id-5 div.sk-serial {display: flex;flex-direction: column;align-items: center;background-color: white;padding-right: 0.2em;padding-left: 0.2em;position: relative;}#sk-container-id-5 div.sk-item {position: relative;z-index: 1;}#sk-container-id-5 div.sk-parallel {display: flex;align-items: stretch;justify-content: center;background-color: white;position: relative;}#sk-container-id-5 div.sk-item::before, #sk-container-id-5 div.sk-parallel-item::before {content: \"\";position: absolute;border-left: 1px solid gray;box-sizing: border-box;top: 0;bottom: 0;left: 50%;z-index: -1;}#sk-container-id-5 div.sk-parallel-item {display: flex;flex-direction: column;z-index: 1;position: relative;background-color: white;}#sk-container-id-5 div.sk-parallel-item:first-child::after {align-self: flex-end;width: 50%;}#sk-container-id-5 div.sk-parallel-item:last-child::after {align-self: flex-start;width: 50%;}#sk-container-id-5 div.sk-parallel-item:only-child::after {width: 0;}#sk-container-id-5 div.sk-dashed-wrapped {border: 1px dashed gray;margin: 0 0.4em 0.5em 0.4em;box-sizing: border-box;padding-bottom: 0.4em;background-color: white;}#sk-container-id-5 div.sk-label label {font-family: monospace;font-weight: bold;display: inline-block;line-height: 1.2em;}#sk-container-id-5 div.sk-label-container {text-align: center;}#sk-container-id-5 div.sk-container {/* jupyter's `normalize.less` sets `[hidden] { display: none; }` but bootstrap.min.css set `[hidden] { display: none !important; }` so we also need the `!important` here to be able to override the default hidden behavior on the sphinx rendered scikit-learn.org. See: https://github.com/scikit-learn/scikit-learn/issues/21755 */display: inline-block !important;position: relative;}#sk-container-id-5 div.sk-text-repr-fallback {display: none;}</style><div id=\"sk-container-id-5\" class=\"sk-top-container\"><div class=\"sk-text-repr-fallback\"><pre>GridSearchCV(cv=5, estimator=RandomForestRegressor(),\n",
       "             param_grid={&#x27;max_depth&#x27;: [None, 3, 5],\n",
       "                         &#x27;min_samples_leaf&#x27;: [1, 2, 4],\n",
       "                         &#x27;min_samples_split&#x27;: [2, 3, 4],\n",
       "                         &#x27;n_estimators&#x27;: [5, 10, 20]},\n",
       "             scoring=&#x27;neg_mean_squared_error&#x27;)</pre><b>In a Jupyter environment, please rerun this cell to show the HTML representation or trust the notebook. <br />On GitHub, the HTML representation is unable to render, please try loading this page with nbviewer.org.</b></div><div class=\"sk-container\" hidden><div class=\"sk-item sk-dashed-wrapped\"><div class=\"sk-label-container\"><div class=\"sk-label sk-toggleable\"><input class=\"sk-toggleable__control sk-hidden--visually\" id=\"sk-estimator-id-7\" type=\"checkbox\" ><label for=\"sk-estimator-id-7\" class=\"sk-toggleable__label sk-toggleable__label-arrow\">GridSearchCV</label><div class=\"sk-toggleable__content\"><pre>GridSearchCV(cv=5, estimator=RandomForestRegressor(),\n",
       "             param_grid={&#x27;max_depth&#x27;: [None, 3, 5],\n",
       "                         &#x27;min_samples_leaf&#x27;: [1, 2, 4],\n",
       "                         &#x27;min_samples_split&#x27;: [2, 3, 4],\n",
       "                         &#x27;n_estimators&#x27;: [5, 10, 20]},\n",
       "             scoring=&#x27;neg_mean_squared_error&#x27;)</pre></div></div></div><div class=\"sk-parallel\"><div class=\"sk-parallel-item\"><div class=\"sk-item\"><div class=\"sk-label-container\"><div class=\"sk-label sk-toggleable\"><input class=\"sk-toggleable__control sk-hidden--visually\" id=\"sk-estimator-id-8\" type=\"checkbox\" ><label for=\"sk-estimator-id-8\" class=\"sk-toggleable__label sk-toggleable__label-arrow\">estimator: RandomForestRegressor</label><div class=\"sk-toggleable__content\"><pre>RandomForestRegressor()</pre></div></div></div><div class=\"sk-serial\"><div class=\"sk-item\"><div class=\"sk-estimator sk-toggleable\"><input class=\"sk-toggleable__control sk-hidden--visually\" id=\"sk-estimator-id-9\" type=\"checkbox\" ><label for=\"sk-estimator-id-9\" class=\"sk-toggleable__label sk-toggleable__label-arrow\">RandomForestRegressor</label><div class=\"sk-toggleable__content\"><pre>RandomForestRegressor()</pre></div></div></div></div></div></div></div></div></div></div>"
      ],
      "text/plain": [
       "GridSearchCV(cv=5, estimator=RandomForestRegressor(),\n",
       "             param_grid={'max_depth': [None, 3, 5],\n",
       "                         'min_samples_leaf': [1, 2, 4],\n",
       "                         'min_samples_split': [2, 3, 4],\n",
       "                         'n_estimators': [5, 10, 20]},\n",
       "             scoring='neg_mean_squared_error')"
      ]
     },
     "execution_count": 130,
     "metadata": {},
     "output_type": "execute_result"
    }
   ],
   "source": [
    "grid_search = GridSearchCV(estimator=rf_regr, param_grid=param_grid, cv=5, scoring='neg_mean_squared_error')\n",
    "grid_search.fit(x_train, y_train)"
   ]
  },
  {
   "cell_type": "code",
   "execution_count": 131,
   "id": "393880fd",
   "metadata": {},
   "outputs": [],
   "source": [
    "best_params = grid_search.best_params_"
   ]
  },
  {
   "cell_type": "code",
   "execution_count": 132,
   "id": "8d612c73",
   "metadata": {},
   "outputs": [],
   "source": [
    "best_rf_regr = RandomForestRegressor(**best_params)"
   ]
  },
  {
   "cell_type": "code",
   "execution_count": 133,
   "id": "27a335c1",
   "metadata": {},
   "outputs": [
    {
     "data": {
      "text/html": [
       "<style>#sk-container-id-6 {color: black;background-color: white;}#sk-container-id-6 pre{padding: 0;}#sk-container-id-6 div.sk-toggleable {background-color: white;}#sk-container-id-6 label.sk-toggleable__label {cursor: pointer;display: block;width: 100%;margin-bottom: 0;padding: 0.3em;box-sizing: border-box;text-align: center;}#sk-container-id-6 label.sk-toggleable__label-arrow:before {content: \"▸\";float: left;margin-right: 0.25em;color: #696969;}#sk-container-id-6 label.sk-toggleable__label-arrow:hover:before {color: black;}#sk-container-id-6 div.sk-estimator:hover label.sk-toggleable__label-arrow:before {color: black;}#sk-container-id-6 div.sk-toggleable__content {max-height: 0;max-width: 0;overflow: hidden;text-align: left;background-color: #f0f8ff;}#sk-container-id-6 div.sk-toggleable__content pre {margin: 0.2em;color: black;border-radius: 0.25em;background-color: #f0f8ff;}#sk-container-id-6 input.sk-toggleable__control:checked~div.sk-toggleable__content {max-height: 200px;max-width: 100%;overflow: auto;}#sk-container-id-6 input.sk-toggleable__control:checked~label.sk-toggleable__label-arrow:before {content: \"▾\";}#sk-container-id-6 div.sk-estimator input.sk-toggleable__control:checked~label.sk-toggleable__label {background-color: #d4ebff;}#sk-container-id-6 div.sk-label input.sk-toggleable__control:checked~label.sk-toggleable__label {background-color: #d4ebff;}#sk-container-id-6 input.sk-hidden--visually {border: 0;clip: rect(1px 1px 1px 1px);clip: rect(1px, 1px, 1px, 1px);height: 1px;margin: -1px;overflow: hidden;padding: 0;position: absolute;width: 1px;}#sk-container-id-6 div.sk-estimator {font-family: monospace;background-color: #f0f8ff;border: 1px dotted black;border-radius: 0.25em;box-sizing: border-box;margin-bottom: 0.5em;}#sk-container-id-6 div.sk-estimator:hover {background-color: #d4ebff;}#sk-container-id-6 div.sk-parallel-item::after {content: \"\";width: 100%;border-bottom: 1px solid gray;flex-grow: 1;}#sk-container-id-6 div.sk-label:hover label.sk-toggleable__label {background-color: #d4ebff;}#sk-container-id-6 div.sk-serial::before {content: \"\";position: absolute;border-left: 1px solid gray;box-sizing: border-box;top: 0;bottom: 0;left: 50%;z-index: 0;}#sk-container-id-6 div.sk-serial {display: flex;flex-direction: column;align-items: center;background-color: white;padding-right: 0.2em;padding-left: 0.2em;position: relative;}#sk-container-id-6 div.sk-item {position: relative;z-index: 1;}#sk-container-id-6 div.sk-parallel {display: flex;align-items: stretch;justify-content: center;background-color: white;position: relative;}#sk-container-id-6 div.sk-item::before, #sk-container-id-6 div.sk-parallel-item::before {content: \"\";position: absolute;border-left: 1px solid gray;box-sizing: border-box;top: 0;bottom: 0;left: 50%;z-index: -1;}#sk-container-id-6 div.sk-parallel-item {display: flex;flex-direction: column;z-index: 1;position: relative;background-color: white;}#sk-container-id-6 div.sk-parallel-item:first-child::after {align-self: flex-end;width: 50%;}#sk-container-id-6 div.sk-parallel-item:last-child::after {align-self: flex-start;width: 50%;}#sk-container-id-6 div.sk-parallel-item:only-child::after {width: 0;}#sk-container-id-6 div.sk-dashed-wrapped {border: 1px dashed gray;margin: 0 0.4em 0.5em 0.4em;box-sizing: border-box;padding-bottom: 0.4em;background-color: white;}#sk-container-id-6 div.sk-label label {font-family: monospace;font-weight: bold;display: inline-block;line-height: 1.2em;}#sk-container-id-6 div.sk-label-container {text-align: center;}#sk-container-id-6 div.sk-container {/* jupyter's `normalize.less` sets `[hidden] { display: none; }` but bootstrap.min.css set `[hidden] { display: none !important; }` so we also need the `!important` here to be able to override the default hidden behavior on the sphinx rendered scikit-learn.org. See: https://github.com/scikit-learn/scikit-learn/issues/21755 */display: inline-block !important;position: relative;}#sk-container-id-6 div.sk-text-repr-fallback {display: none;}</style><div id=\"sk-container-id-6\" class=\"sk-top-container\"><div class=\"sk-text-repr-fallback\"><pre>RandomForestRegressor(min_samples_leaf=2, n_estimators=10)</pre><b>In a Jupyter environment, please rerun this cell to show the HTML representation or trust the notebook. <br />On GitHub, the HTML representation is unable to render, please try loading this page with nbviewer.org.</b></div><div class=\"sk-container\" hidden><div class=\"sk-item\"><div class=\"sk-estimator sk-toggleable\"><input class=\"sk-toggleable__control sk-hidden--visually\" id=\"sk-estimator-id-10\" type=\"checkbox\" checked><label for=\"sk-estimator-id-10\" class=\"sk-toggleable__label sk-toggleable__label-arrow\">RandomForestRegressor</label><div class=\"sk-toggleable__content\"><pre>RandomForestRegressor(min_samples_leaf=2, n_estimators=10)</pre></div></div></div></div></div>"
      ],
      "text/plain": [
       "RandomForestRegressor(min_samples_leaf=2, n_estimators=10)"
      ]
     },
     "execution_count": 133,
     "metadata": {},
     "output_type": "execute_result"
    }
   ],
   "source": [
    "best_rf_regr.fit(x_train, y_train)"
   ]
  },
  {
   "cell_type": "code",
   "execution_count": 134,
   "id": "0aba4ea0",
   "metadata": {},
   "outputs": [],
   "source": [
    "y_pred = best_rf_regr.predict(x_test)"
   ]
  },
  {
   "cell_type": "code",
   "execution_count": 135,
   "id": "f68d0f42",
   "metadata": {},
   "outputs": [
    {
     "name": "stdout",
     "output_type": "stream",
     "text": [
      "Best Hyperparameters: {'max_depth': None, 'min_samples_leaf': 2, 'min_samples_split': 2, 'n_estimators': 10}\n",
      "Mean Squared Error (MSE): 33129.49001565129\n",
      "Mean Absolute Error (MAE): 56.88032629291626\n",
      "R-squared (R^2) Score: 0.9998258587850755\n"
     ]
    }
   ],
   "source": [
    "mse = mean_squared_error(y_test, y_pred)\n",
    "mae = mean_absolute_error(y_test, y_pred)\n",
    "r2 = r2_score(y_test, y_pred)\n",
    "print(\"Best Hyperparameters:\", best_params)\n",
    "print(\"Mean Squared Error (MSE):\", mse)\n",
    "print(\"Mean Absolute Error (MAE):\", mae)\n",
    "print(\"R-squared (R^2) Score:\", r2)"
   ]
  },
  {
   "cell_type": "code",
   "execution_count": 136,
   "id": "dddadcbf",
   "metadata": {},
   "outputs": [
    {
     "name": "stdout",
     "output_type": "stream",
     "text": [
      "Model Evaluation:\n",
      "MSE:  33129.49001565129\n",
      "MAE:  56.88032629291626\n",
      "R-squared:  0.9998258587850755\n",
      "Baseline MSE:  190361924.3672187\n",
      "Baseline MAE:  10599.910560495622\n"
     ]
    }
   ],
   "source": [
    "y_pred = best_rf_regr.predict(x_test)\n",
    "\n",
    "mse = mean_squared_error(y_test, y_pred)\n",
    "mae = mean_absolute_error(y_test, y_pred)\n",
    "r2 = r2_score(y_test, y_pred)\n",
    "\n",
    "baseline_pred = [y_train.mean()] * len(y_test)\n",
    "baseline_mse = mean_squared_error(y_test, baseline_pred)\n",
    "baseline_mae = mean_absolute_error(y_test, baseline_pred)\n",
    "\n",
    "print(\"Model Evaluation:\")\n",
    "print(\"MSE: \", mse)\n",
    "print(\"MAE: \", mae)\n",
    "print(\"R-squared: \", r2)\n",
    "print(\"Baseline MSE: \", baseline_mse)\n",
    "print(\"Baseline MAE: \", baseline_mae)"
   ]
  },
  {
   "cell_type": "code",
   "execution_count": null,
   "id": "fea19207",
   "metadata": {},
   "outputs": [],
   "source": []
  }
 ],
 "metadata": {
  "kernelspec": {
   "display_name": "Python 3 (ipykernel)",
   "language": "python",
   "name": "python3"
  },
  "language_info": {
   "codemirror_mode": {
    "name": "ipython",
    "version": 3
   },
   "file_extension": ".py",
   "mimetype": "text/x-python",
   "name": "python",
   "nbconvert_exporter": "python",
   "pygments_lexer": "ipython3",
   "version": "3.10.9"
  }
 },
 "nbformat": 4,
 "nbformat_minor": 5
}
